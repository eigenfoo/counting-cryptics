{
 "cells": [
  {
   "cell_type": "markdown",
   "metadata": {},
   "source": [
    "# Counting Cryptic Crossword Grids"
   ]
  },
  {
   "cell_type": "code",
   "execution_count": 1,
   "metadata": {},
   "outputs": [
    {
     "data": {
      "application/javascript": [
       "\n",
       "            setTimeout(function() {\n",
       "                var nbb_cell_id = 1;\n",
       "                var nbb_unformatted_code = \"%load_ext nb_black\\n\\nimport json\\nimport itertools\\nimport numpy as np\\nfrom tqdm.notebook import tqdm, trange\";\n",
       "                var nbb_formatted_code = \"%load_ext nb_black\\n\\nimport json\\nimport itertools\\nimport numpy as np\\nfrom tqdm.notebook import tqdm, trange\";\n",
       "                var nbb_cells = Jupyter.notebook.get_cells();\n",
       "                for (var i = 0; i < nbb_cells.length; ++i) {\n",
       "                    if (nbb_cells[i].input_prompt_number == nbb_cell_id) {\n",
       "                        if (nbb_cells[i].get_text() == nbb_unformatted_code) {\n",
       "                             nbb_cells[i].set_text(nbb_formatted_code);\n",
       "                        }\n",
       "                        break;\n",
       "                    }\n",
       "                }\n",
       "            }, 500);\n",
       "            "
      ],
      "text/plain": [
       "<IPython.core.display.Javascript object>"
      ]
     },
     "metadata": {},
     "output_type": "display_data"
    }
   ],
   "source": [
    "%load_ext nb_black\n",
    "\n",
    "import json\n",
    "import itertools\n",
    "import numpy as np\n",
    "from tqdm.notebook import tqdm, trange"
   ]
  },
  {
   "cell_type": "code",
   "execution_count": 2,
   "metadata": {},
   "outputs": [
    {
     "data": {
      "application/javascript": [
       "\n",
       "            setTimeout(function() {\n",
       "                var nbb_cell_id = 2;\n",
       "                var nbb_unformatted_code = \"GRID_LENGTH = 13  # FIXME: must be odd...?\\nMIN_WORD_LENGTH = 3  # Minimum allowable word length\\nROUND_UP_UNCHECKED = True  # I.e. can a 7-letter word have 3 unchecked squares?\";\n",
       "                var nbb_formatted_code = \"GRID_LENGTH = 13  # FIXME: must be odd...?\\nMIN_WORD_LENGTH = 3  # Minimum allowable word length\\nROUND_UP_UNCHECKED = True  # I.e. can a 7-letter word have 3 unchecked squares?\";\n",
       "                var nbb_cells = Jupyter.notebook.get_cells();\n",
       "                for (var i = 0; i < nbb_cells.length; ++i) {\n",
       "                    if (nbb_cells[i].input_prompt_number == nbb_cell_id) {\n",
       "                        if (nbb_cells[i].get_text() == nbb_unformatted_code) {\n",
       "                             nbb_cells[i].set_text(nbb_formatted_code);\n",
       "                        }\n",
       "                        break;\n",
       "                    }\n",
       "                }\n",
       "            }, 500);\n",
       "            "
      ],
      "text/plain": [
       "<IPython.core.display.Javascript object>"
      ]
     },
     "metadata": {},
     "output_type": "display_data"
    }
   ],
   "source": [
    "GRID_LENGTH = 13  # FIXME: must be odd...?\n",
    "MIN_WORD_LENGTH = 3  # Minimum allowable word length\n",
    "ROUND_UP_UNCHECKED = True  # I.e. can a 7-letter word have 3 unchecked squares?"
   ]
  },
  {
   "cell_type": "code",
   "execution_count": 3,
   "metadata": {},
   "outputs": [
    {
     "data": {
      "application/javascript": [
       "\n",
       "            setTimeout(function() {\n",
       "                var nbb_cell_id = 3;\n",
       "                var nbb_unformatted_code = \"# For now, True is white, False is black. We will reverse this later.\\ngrid = np.meshgrid(*[[0, 1] for _ in range(GRID_LENGTH)])\\ngrid = [mesh.flatten() for mesh in grid]\\ngrid = np.transpose(np.vstack(grid))\\ngrid = grid.astype(bool)\";\n",
       "                var nbb_formatted_code = \"# For now, True is white, False is black. We will reverse this later.\\ngrid = np.meshgrid(*[[0, 1] for _ in range(GRID_LENGTH)])\\ngrid = [mesh.flatten() for mesh in grid]\\ngrid = np.transpose(np.vstack(grid))\\ngrid = grid.astype(bool)\";\n",
       "                var nbb_cells = Jupyter.notebook.get_cells();\n",
       "                for (var i = 0; i < nbb_cells.length; ++i) {\n",
       "                    if (nbb_cells[i].input_prompt_number == nbb_cell_id) {\n",
       "                        if (nbb_cells[i].get_text() == nbb_unformatted_code) {\n",
       "                             nbb_cells[i].set_text(nbb_formatted_code);\n",
       "                        }\n",
       "                        break;\n",
       "                    }\n",
       "                }\n",
       "            }, 500);\n",
       "            "
      ],
      "text/plain": [
       "<IPython.core.display.Javascript object>"
      ]
     },
     "metadata": {},
     "output_type": "display_data"
    }
   ],
   "source": [
    "# For now, True is white, False is black. We will reverse this later.\n",
    "grid = np.meshgrid(*[[0, 1] for _ in range(GRID_LENGTH)])\n",
    "grid = [mesh.flatten() for mesh in grid]\n",
    "grid = np.transpose(np.vstack(grid))\n",
    "grid = grid.astype(bool)"
   ]
  },
  {
   "cell_type": "code",
   "execution_count": 4,
   "metadata": {},
   "outputs": [
    {
     "data": {
      "application/javascript": [
       "\n",
       "            setTimeout(function() {\n",
       "                var nbb_cell_id = 4;\n",
       "                var nbb_unformatted_code = \"def contains_run_length(row, length):\\n    \\\"\\\"\\\"\\n    If True, `row` contains a run of True values of length equal to `length`\\n    E.g.\\n        row_contains_run_length([0, 1, 1], 1) returns False\\n        row_contains_run_length([0, 1, 1], 2) returns True\\n    \\\"\\\"\\\"\\n    # This is why we have white and black flipped - to sum lengths of _whites_\\n    return any([sum(group) == length for _, group in itertools.groupby(row)])\";\n",
       "                var nbb_formatted_code = \"def contains_run_length(row, length):\\n    \\\"\\\"\\\"\\n    If True, `row` contains a run of True values of length equal to `length`\\n    E.g.\\n        row_contains_run_length([0, 1, 1], 1) returns False\\n        row_contains_run_length([0, 1, 1], 2) returns True\\n    \\\"\\\"\\\"\\n    # This is why we have white and black flipped - to sum lengths of _whites_\\n    return any([sum(group) == length for _, group in itertools.groupby(row)])\";\n",
       "                var nbb_cells = Jupyter.notebook.get_cells();\n",
       "                for (var i = 0; i < nbb_cells.length; ++i) {\n",
       "                    if (nbb_cells[i].input_prompt_number == nbb_cell_id) {\n",
       "                        if (nbb_cells[i].get_text() == nbb_unformatted_code) {\n",
       "                             nbb_cells[i].set_text(nbb_formatted_code);\n",
       "                        }\n",
       "                        break;\n",
       "                    }\n",
       "                }\n",
       "            }, 500);\n",
       "            "
      ],
      "text/plain": [
       "<IPython.core.display.Javascript object>"
      ]
     },
     "metadata": {},
     "output_type": "display_data"
    }
   ],
   "source": [
    "def contains_run_length(row, length):\n",
    "    \"\"\"\n",
    "    If True, `row` contains a run of True values of length equal to `length`\n",
    "    E.g.\n",
    "        row_contains_run_length([0, 1, 1], 1) returns False\n",
    "        row_contains_run_length([0, 1, 1], 2) returns True\n",
    "    \"\"\"\n",
    "    # This is why we have white and black flipped - to sum lengths of _whites_\n",
    "    return any([sum(group) == length for _, group in itertools.groupby(row)])"
   ]
  },
  {
   "cell_type": "code",
   "execution_count": 5,
   "metadata": {},
   "outputs": [
    {
     "data": {
      "application/javascript": [
       "\n",
       "            setTimeout(function() {\n",
       "                var nbb_cell_id = 5;\n",
       "                var nbb_unformatted_code = \"# Compute all valid rows\\n\\nfor length in range(2, MIN_WORD_LENGTH):\\n    rows_to_delete = []\\n    for i, row in enumerate(grid):\\n        if contains_run_length(row, length):\\n            rows_to_delete.append(i)\\n    grid = np.delete(grid, rows_to_delete, axis=0)\\n\\nvalid_rows = np.copy(grid)\\nvalid_rows = ~valid_rows  # True is black, False is white\\nvalid_rows = valid_rows[np.sum(valid_rows, axis=1) < 13]  # Remove all-black row\";\n",
       "                var nbb_formatted_code = \"# Compute all valid rows\\n\\nfor length in range(2, MIN_WORD_LENGTH):\\n    rows_to_delete = []\\n    for i, row in enumerate(grid):\\n        if contains_run_length(row, length):\\n            rows_to_delete.append(i)\\n    grid = np.delete(grid, rows_to_delete, axis=0)\\n\\nvalid_rows = np.copy(grid)\\nvalid_rows = ~valid_rows  # True is black, False is white\\nvalid_rows = valid_rows[np.sum(valid_rows, axis=1) < 13]  # Remove all-black row\";\n",
       "                var nbb_cells = Jupyter.notebook.get_cells();\n",
       "                for (var i = 0; i < nbb_cells.length; ++i) {\n",
       "                    if (nbb_cells[i].input_prompt_number == nbb_cell_id) {\n",
       "                        if (nbb_cells[i].get_text() == nbb_unformatted_code) {\n",
       "                             nbb_cells[i].set_text(nbb_formatted_code);\n",
       "                        }\n",
       "                        break;\n",
       "                    }\n",
       "                }\n",
       "            }, 500);\n",
       "            "
      ],
      "text/plain": [
       "<IPython.core.display.Javascript object>"
      ]
     },
     "metadata": {},
     "output_type": "display_data"
    }
   ],
   "source": [
    "# Compute all valid rows\n",
    "\n",
    "for length in range(2, MIN_WORD_LENGTH):\n",
    "    rows_to_delete = []\n",
    "    for i, row in enumerate(grid):\n",
    "        if contains_run_length(row, length):\n",
    "            rows_to_delete.append(i)\n",
    "    grid = np.delete(grid, rows_to_delete, axis=0)\n",
    "\n",
    "valid_rows = np.copy(grid)\n",
    "valid_rows = ~valid_rows  # True is black, False is white\n",
    "valid_rows = valid_rows[np.sum(valid_rows, axis=1) < 13]  # Remove all-black row"
   ]
  },
  {
   "cell_type": "code",
   "execution_count": 6,
   "metadata": {},
   "outputs": [
    {
     "data": {
      "application/javascript": [
       "\n",
       "            setTimeout(function() {\n",
       "                var nbb_cell_id = 6;\n",
       "                var nbb_unformatted_code = \"# Compute all symmetric rows\\n\\nsymmetric_row_indexes = []\\nfor i, row in enumerate(grid):\\n    if all(row == np.flip(row)):\\n        symmetric_row_indexes.append(i)\\n\\nsymmetric_rows = np.copy(grid[symmetric_row_indexes])\\nsymmetric_rows = ~symmetric_rows  # True is black, False is white\\nsymmetric_rows = symmetric_rows[\\n    np.sum(symmetric_rows, axis=1) < 13\\n]  # Remove all-black row\";\n",
       "                var nbb_formatted_code = \"# Compute all symmetric rows\\n\\nsymmetric_row_indexes = []\\nfor i, row in enumerate(grid):\\n    if all(row == np.flip(row)):\\n        symmetric_row_indexes.append(i)\\n\\nsymmetric_rows = np.copy(grid[symmetric_row_indexes])\\nsymmetric_rows = ~symmetric_rows  # True is black, False is white\\nsymmetric_rows = symmetric_rows[\\n    np.sum(symmetric_rows, axis=1) < 13\\n]  # Remove all-black row\";\n",
       "                var nbb_cells = Jupyter.notebook.get_cells();\n",
       "                for (var i = 0; i < nbb_cells.length; ++i) {\n",
       "                    if (nbb_cells[i].input_prompt_number == nbb_cell_id) {\n",
       "                        if (nbb_cells[i].get_text() == nbb_unformatted_code) {\n",
       "                             nbb_cells[i].set_text(nbb_formatted_code);\n",
       "                        }\n",
       "                        break;\n",
       "                    }\n",
       "                }\n",
       "            }, 500);\n",
       "            "
      ],
      "text/plain": [
       "<IPython.core.display.Javascript object>"
      ]
     },
     "metadata": {},
     "output_type": "display_data"
    }
   ],
   "source": [
    "# Compute all symmetric rows\n",
    "\n",
    "symmetric_row_indexes = []\n",
    "for i, row in enumerate(grid):\n",
    "    if all(row == np.flip(row)):\n",
    "        symmetric_row_indexes.append(i)\n",
    "\n",
    "symmetric_rows = np.copy(grid[symmetric_row_indexes])\n",
    "symmetric_rows = ~symmetric_rows  # True is black, False is white\n",
    "symmetric_rows = symmetric_rows[\n",
    "    np.sum(symmetric_rows, axis=1) < 13\n",
    "]  # Remove all-black row"
   ]
  },
  {
   "cell_type": "code",
   "execution_count": 7,
   "metadata": {},
   "outputs": [
    {
     "data": {
      "application/javascript": [
       "\n",
       "            setTimeout(function() {\n",
       "                var nbb_cell_id = 7;\n",
       "                var nbb_unformatted_code = \"def row_is_valid(grid, row_num):\\n    (word_starts_indexes,) = np.where(\\n        np.append(\\n            [np.logical_not(grid[row_num][0])], np.diff(grid[row_num].astype(int)) == -1\\n        )\\n    )\\n    (word_ends_indexes,) = np.where(\\n        np.append(\\n            np.diff(grid[row_num].astype(int)) == 1, [np.logical_not(grid[row_num][-1])]\\n        )\\n    )\\n\\n    for word_start_index, word_end_index in zip(word_starts_indexes, word_ends_indexes):\\n        subgrid = grid[:, word_start_index : word_end_index + 1]\\n        if 0 < row_num < grid.shape[0] - 1:\\n            unchecked_squares = np.logical_and(*subgrid[[row_num - 1, row_num + 1]])\\n        elif row_num == 0:\\n            unchecked_squares = subgrid[1]\\n        elif row_num == grid.shape[0] - 1:\\n            unchecked_squares = subgrid[grid.shape[0] - 2]\\n\\n        expected_num_unchecked = (word_end_index - word_start_index) / 2\\n\\n        has_expected_num_unchecked = (\\n            sum(unchecked_squares) == np.ceil(expected_num_unchecked)\\n            if ROUND_UP_UNCHECKED\\n            else (\\n                np.floor(expected_num_unchecked)\\n                <= sum(unchecked_squares)\\n                <= np.ceil(expected_num_unchecked)\\n            )\\n        )\\n        has_max_two_consecutive_unchecked = all(\\n            [\\n                sum(group) <= 2\\n                for bit, group in itertools.groupby(unchecked_squares)\\n                if bit\\n            ]\\n        )\\n        ends_not_two_consecutive_unchecked = not (\\n            all(unchecked_squares[:2]) or all(unchecked_squares[-2:])\\n        )\\n\\n        if not (\\n            has_expected_num_unchecked\\n            and has_max_two_consecutive_unchecked\\n            and ends_not_two_consecutive_unchecked\\n        ):\\n            return False\\n\\n    return True\";\n",
       "                var nbb_formatted_code = \"def row_is_valid(grid, row_num):\\n    (word_starts_indexes,) = np.where(\\n        np.append(\\n            [np.logical_not(grid[row_num][0])], np.diff(grid[row_num].astype(int)) == -1\\n        )\\n    )\\n    (word_ends_indexes,) = np.where(\\n        np.append(\\n            np.diff(grid[row_num].astype(int)) == 1, [np.logical_not(grid[row_num][-1])]\\n        )\\n    )\\n\\n    for word_start_index, word_end_index in zip(word_starts_indexes, word_ends_indexes):\\n        subgrid = grid[:, word_start_index : word_end_index + 1]\\n        if 0 < row_num < grid.shape[0] - 1:\\n            unchecked_squares = np.logical_and(*subgrid[[row_num - 1, row_num + 1]])\\n        elif row_num == 0:\\n            unchecked_squares = subgrid[1]\\n        elif row_num == grid.shape[0] - 1:\\n            unchecked_squares = subgrid[grid.shape[0] - 2]\\n\\n        expected_num_unchecked = (word_end_index - word_start_index) / 2\\n\\n        has_expected_num_unchecked = (\\n            sum(unchecked_squares) == np.ceil(expected_num_unchecked)\\n            if ROUND_UP_UNCHECKED\\n            else (\\n                np.floor(expected_num_unchecked)\\n                <= sum(unchecked_squares)\\n                <= np.ceil(expected_num_unchecked)\\n            )\\n        )\\n        has_max_two_consecutive_unchecked = all(\\n            [\\n                sum(group) <= 2\\n                for bit, group in itertools.groupby(unchecked_squares)\\n                if bit\\n            ]\\n        )\\n        ends_not_two_consecutive_unchecked = not (\\n            all(unchecked_squares[:2]) or all(unchecked_squares[-2:])\\n        )\\n\\n        if not (\\n            has_expected_num_unchecked\\n            and has_max_two_consecutive_unchecked\\n            and ends_not_two_consecutive_unchecked\\n        ):\\n            return False\\n\\n    return True\";\n",
       "                var nbb_cells = Jupyter.notebook.get_cells();\n",
       "                for (var i = 0; i < nbb_cells.length; ++i) {\n",
       "                    if (nbb_cells[i].input_prompt_number == nbb_cell_id) {\n",
       "                        if (nbb_cells[i].get_text() == nbb_unformatted_code) {\n",
       "                             nbb_cells[i].set_text(nbb_formatted_code);\n",
       "                        }\n",
       "                        break;\n",
       "                    }\n",
       "                }\n",
       "            }, 500);\n",
       "            "
      ],
      "text/plain": [
       "<IPython.core.display.Javascript object>"
      ]
     },
     "metadata": {},
     "output_type": "display_data"
    }
   ],
   "source": [
    "def row_is_valid(grid, row_num):\n",
    "    (word_starts_indexes,) = np.where(\n",
    "        np.append(\n",
    "            [np.logical_not(grid[row_num][0])], np.diff(grid[row_num].astype(int)) == -1\n",
    "        )\n",
    "    )\n",
    "    (word_ends_indexes,) = np.where(\n",
    "        np.append(\n",
    "            np.diff(grid[row_num].astype(int)) == 1, [np.logical_not(grid[row_num][-1])]\n",
    "        )\n",
    "    )\n",
    "\n",
    "    for word_start_index, word_end_index in zip(word_starts_indexes, word_ends_indexes):\n",
    "        subgrid = grid[:, word_start_index : word_end_index + 1]\n",
    "        if 0 < row_num < grid.shape[0] - 1:\n",
    "            unchecked_squares = np.logical_and(*subgrid[[row_num - 1, row_num + 1]])\n",
    "        elif row_num == 0:\n",
    "            unchecked_squares = subgrid[1]\n",
    "        elif row_num == grid.shape[0] - 1:\n",
    "            unchecked_squares = subgrid[grid.shape[0] - 2]\n",
    "\n",
    "        expected_num_unchecked = (word_end_index - word_start_index) / 2\n",
    "\n",
    "        has_expected_num_unchecked = (\n",
    "            sum(unchecked_squares) == np.ceil(expected_num_unchecked)\n",
    "            if ROUND_UP_UNCHECKED\n",
    "            else (\n",
    "                np.floor(expected_num_unchecked)\n",
    "                <= sum(unchecked_squares)\n",
    "                <= np.ceil(expected_num_unchecked)\n",
    "            )\n",
    "        )\n",
    "        has_max_two_consecutive_unchecked = all(\n",
    "            [\n",
    "                sum(group) <= 2\n",
    "                for bit, group in itertools.groupby(unchecked_squares)\n",
    "                if bit\n",
    "            ]\n",
    "        )\n",
    "        ends_not_two_consecutive_unchecked = not (\n",
    "            all(unchecked_squares[:2]) or all(unchecked_squares[-2:])\n",
    "        )\n",
    "\n",
    "        if not (\n",
    "            has_expected_num_unchecked\n",
    "            and has_max_two_consecutive_unchecked\n",
    "            and ends_not_two_consecutive_unchecked\n",
    "        ):\n",
    "            return False\n",
    "\n",
    "    return True"
   ]
  },
  {
   "cell_type": "code",
   "execution_count": 19,
   "metadata": {},
   "outputs": [
    {
     "data": {
      "application/vnd.jupyter.widget-view+json": {
       "model_id": "995927dba7384c2b81d188b3cc59e254",
       "version_major": 2,
       "version_minor": 0
      },
      "text/plain": [
       "  0%|          | 0/3083 [00:00<?, ?it/s]"
      ]
     },
     "metadata": {},
     "output_type": "display_data"
    },
    {
     "data": {
      "application/javascript": [
       "\n",
       "            setTimeout(function() {\n",
       "                var nbb_cell_id = 19;\n",
       "                var nbb_unformatted_code = \"valid_middle_rows_indexes = []\\n\\nfor i, row1 in tqdm(enumerate(valid_rows), total=valid_rows.shape[0]):\\n    for j, row2 in enumerate(symmetric_rows):\\n        grid = np.vstack(\\n            [\\n                row1,\\n                row2,\\n                np.flip(row1),\\n            ]\\n        )\\n        if all(\\n            [\\n                row_is_valid(\\n                    grid,\\n                    k,\\n                )\\n                for k in range(2)  # By symmetry, only need to check 0 and 1\\n            ]\\n        ):\\n            valid_middle_rows_indexes.append((i, j))\";\n",
       "                var nbb_formatted_code = \"valid_middle_rows_indexes = []\\n\\nfor i, row1 in tqdm(enumerate(valid_rows), total=valid_rows.shape[0]):\\n    for j, row2 in enumerate(symmetric_rows):\\n        grid = np.vstack(\\n            [\\n                row1,\\n                row2,\\n                np.flip(row1),\\n            ]\\n        )\\n        if all(\\n            [\\n                row_is_valid(\\n                    grid,\\n                    k,\\n                )\\n                for k in range(2)  # By symmetry, only need to check 0 and 1\\n            ]\\n        ):\\n            valid_middle_rows_indexes.append((i, j))\";\n",
       "                var nbb_cells = Jupyter.notebook.get_cells();\n",
       "                for (var i = 0; i < nbb_cells.length; ++i) {\n",
       "                    if (nbb_cells[i].input_prompt_number == nbb_cell_id) {\n",
       "                        if (nbb_cells[i].get_text() == nbb_unformatted_code) {\n",
       "                             nbb_cells[i].set_text(nbb_formatted_code);\n",
       "                        }\n",
       "                        break;\n",
       "                    }\n",
       "                }\n",
       "            }, 500);\n",
       "            "
      ],
      "text/plain": [
       "<IPython.core.display.Javascript object>"
      ]
     },
     "metadata": {},
     "output_type": "display_data"
    }
   ],
   "source": [
    "valid_middle_rows_indexes = []\n",
    "\n",
    "for i, row1 in tqdm(enumerate(valid_rows), total=valid_rows.shape[0]):\n",
    "    for j, row2 in enumerate(symmetric_rows):\n",
    "        grid = np.vstack(\n",
    "            [\n",
    "                row1,\n",
    "                row2,\n",
    "                np.flip(row1),\n",
    "            ]\n",
    "        )\n",
    "        if all(\n",
    "            [\n",
    "                row_is_valid(\n",
    "                    grid,\n",
    "                    k,\n",
    "                )\n",
    "                for k in range(2)  # By symmetry, only need to check 0 and 1\n",
    "            ]\n",
    "        ):\n",
    "            valid_middle_rows_indexes.append((i, j))"
   ]
  },
  {
   "cell_type": "raw",
   "metadata": {},
   "source": [
    "with open(\"valid_middle_rows_indexes.json\", \"w\") as f:\n",
    "    json.dump(valid_middle_rows_indexes, f)"
   ]
  },
  {
   "cell_type": "code",
   "execution_count": 193,
   "metadata": {},
   "outputs": [
    {
     "data": {
      "application/javascript": [
       "\n",
       "            setTimeout(function() {\n",
       "                var nbb_cell_id = 193;\n",
       "                var nbb_unformatted_code = \"def grid_from_indexes(*indexes):\\n    return np.vstack(\\n        [valid_rows[i] for i in indexes[:-1]]\\n        + [symmetric_rows[indexes[-1]]]\\n        + [np.flip(valid_rows[i]) for i in indexes[:-1]][::-1]  # Make sure to reverse\\n    )\\n\\n\\ndef translate(row):\\n    return \\\"\\\".join([\\\"\\u2b1b\\\" if x else \\\"\\u2b1c\\\" for x in row])\\n\\n\\ndef visualize(grid):\\n    print(\\\"\\\\n\\\".join([translate(row) for row in grid]))\";\n",
       "                var nbb_formatted_code = \"def grid_from_indexes(*indexes):\\n    return np.vstack(\\n        [valid_rows[i] for i in indexes[:-1]]\\n        + [symmetric_rows[indexes[-1]]]\\n        + [np.flip(valid_rows[i]) for i in indexes[:-1]][::-1]  # Make sure to reverse\\n    )\\n\\n\\ndef translate(row):\\n    return \\\"\\\".join([\\\"\\u2b1b\\\" if x else \\\"\\u2b1c\\\" for x in row])\\n\\n\\ndef visualize(grid):\\n    print(\\\"\\\\n\\\".join([translate(row) for row in grid]))\";\n",
       "                var nbb_cells = Jupyter.notebook.get_cells();\n",
       "                for (var i = 0; i < nbb_cells.length; ++i) {\n",
       "                    if (nbb_cells[i].input_prompt_number == nbb_cell_id) {\n",
       "                        if (nbb_cells[i].get_text() == nbb_unformatted_code) {\n",
       "                             nbb_cells[i].set_text(nbb_formatted_code);\n",
       "                        }\n",
       "                        break;\n",
       "                    }\n",
       "                }\n",
       "            }, 500);\n",
       "            "
      ],
      "text/plain": [
       "<IPython.core.display.Javascript object>"
      ]
     },
     "metadata": {},
     "output_type": "display_data"
    }
   ],
   "source": [
    "def grid_from_indexes(*indexes):\n",
    "    return np.vstack(\n",
    "        [valid_rows[i] for i in indexes[:-1]]\n",
    "        + [symmetric_rows[indexes[-1]]]\n",
    "        + [np.flip(valid_rows[i]) for i in indexes[:-1]][::-1]  # Make sure to reverse\n",
    "    )\n",
    "\n",
    "\n",
    "def translate(row):\n",
    "    return \"\".join([\"⬛\" if x else \"⬜\" for x in row])\n",
    "\n",
    "\n",
    "def visualize(grid):\n",
    "    print(\"\\n\".join([translate(row) for row in grid]))"
   ]
  },
  {
   "cell_type": "code",
   "execution_count": 214,
   "metadata": {},
   "outputs": [
    {
     "data": {
      "application/javascript": [
       "\n",
       "            setTimeout(function() {\n",
       "                var nbb_cell_id = 214;\n",
       "                var nbb_unformatted_code = \"with open(\\\"valid_middle_rows_indexes.json\\\", \\\"r\\\") as f:\\n    valid_middle_rows_indexes = json.load(f)\";\n",
       "                var nbb_formatted_code = \"with open(\\\"valid_middle_rows_indexes.json\\\", \\\"r\\\") as f:\\n    valid_middle_rows_indexes = json.load(f)\";\n",
       "                var nbb_cells = Jupyter.notebook.get_cells();\n",
       "                for (var i = 0; i < nbb_cells.length; ++i) {\n",
       "                    if (nbb_cells[i].input_prompt_number == nbb_cell_id) {\n",
       "                        if (nbb_cells[i].get_text() == nbb_unformatted_code) {\n",
       "                             nbb_cells[i].set_text(nbb_formatted_code);\n",
       "                        }\n",
       "                        break;\n",
       "                    }\n",
       "                }\n",
       "            }, 500);\n",
       "            "
      ],
      "text/plain": [
       "<IPython.core.display.Javascript object>"
      ]
     },
     "metadata": {},
     "output_type": "display_data"
    }
   ],
   "source": [
    "with open(\"valid_middle_rows_indexes.json\", \"r\") as f:\n",
    "    valid_middle_rows_indexes = json.load(f)"
   ]
  },
  {
   "cell_type": "code",
   "execution_count": 209,
   "metadata": {},
   "outputs": [
    {
     "data": {
      "application/javascript": [
       "\n",
       "            setTimeout(function() {\n",
       "                var nbb_cell_id = 209;\n",
       "                var nbb_unformatted_code = \"valid_grids_indexes = []\";\n",
       "                var nbb_formatted_code = \"valid_grids_indexes = []\";\n",
       "                var nbb_cells = Jupyter.notebook.get_cells();\n",
       "                for (var i = 0; i < nbb_cells.length; ++i) {\n",
       "                    if (nbb_cells[i].input_prompt_number == nbb_cell_id) {\n",
       "                        if (nbb_cells[i].get_text() == nbb_unformatted_code) {\n",
       "                             nbb_cells[i].set_text(nbb_formatted_code);\n",
       "                        }\n",
       "                        break;\n",
       "                    }\n",
       "                }\n",
       "            }, 500);\n",
       "            "
      ],
      "text/plain": [
       "<IPython.core.display.Javascript object>"
      ]
     },
     "metadata": {},
     "output_type": "display_data"
    }
   ],
   "source": [
    "valid_grids_indexes = []\n",
    "valid_middle_rows_indexes = [valid_middle_rows_indexes[-1]]  # FIXME: remove me"
   ]
  },
  {
   "cell_type": "code",
   "execution_count": 211,
   "metadata": {
    "scrolled": true
   },
   "outputs": [
    {
     "ename": "KeyboardInterrupt",
     "evalue": "",
     "output_type": "error",
     "traceback": [
      "\u001b[0;31m---------------------------------------------------------------------------\u001b[0m",
      "\u001b[0;31mKeyboardInterrupt\u001b[0m                         Traceback (most recent call last)",
      "\u001b[0;32m<ipython-input-211-b8ed5d612677>\u001b[0m in \u001b[0;36m<module>\u001b[0;34m\u001b[0m\n\u001b[1;32m      5\u001b[0m     \u001b[0;32mfor\u001b[0m \u001b[0mi\u001b[0m \u001b[0;32min\u001b[0m \u001b[0mrange\u001b[0m\u001b[0;34m(\u001b[0m\u001b[0mlen\u001b[0m\u001b[0;34m(\u001b[0m\u001b[0mvalid_rows\u001b[0m\u001b[0;34m)\u001b[0m\u001b[0;34m)\u001b[0m\u001b[0;34m:\u001b[0m\u001b[0;34m\u001b[0m\u001b[0;34m\u001b[0m\u001b[0m\n\u001b[1;32m      6\u001b[0m         \u001b[0mgrid\u001b[0m \u001b[0;34m=\u001b[0m \u001b[0mgrid_from_indexes\u001b[0m\u001b[0;34m(\u001b[0m\u001b[0mi\u001b[0m\u001b[0;34m,\u001b[0m \u001b[0;34m*\u001b[0m\u001b[0mindexes\u001b[0m\u001b[0;34m)\u001b[0m\u001b[0;34m\u001b[0m\u001b[0;34m\u001b[0m\u001b[0m\n\u001b[0;32m----> 7\u001b[0;31m         \u001b[0;32mif\u001b[0m \u001b[0mrow_is_valid\u001b[0m\u001b[0;34m(\u001b[0m\u001b[0mgrid\u001b[0m\u001b[0;34m,\u001b[0m \u001b[0;36m0\u001b[0m\u001b[0;34m)\u001b[0m\u001b[0;34m:\u001b[0m\u001b[0;34m\u001b[0m\u001b[0;34m\u001b[0m\u001b[0m\n\u001b[0m\u001b[1;32m      8\u001b[0m             \u001b[0;32mif\u001b[0m \u001b[0mlen\u001b[0m\u001b[0;34m(\u001b[0m\u001b[0;34m[\u001b[0m\u001b[0mi\u001b[0m\u001b[0;34m,\u001b[0m \u001b[0;34m*\u001b[0m\u001b[0mindexes\u001b[0m\u001b[0;34m]\u001b[0m\u001b[0;34m)\u001b[0m \u001b[0;34m==\u001b[0m \u001b[0mGRID_LENGTH\u001b[0m \u001b[0;34m//\u001b[0m \u001b[0;36m2\u001b[0m \u001b[0;34m+\u001b[0m \u001b[0;36m1\u001b[0m\u001b[0;34m:\u001b[0m\u001b[0;34m\u001b[0m\u001b[0;34m\u001b[0m\u001b[0m\n\u001b[1;32m      9\u001b[0m                 if all(\n",
      "\u001b[0;32m<ipython-input-7-993f0ba7f6d8>\u001b[0m in \u001b[0;36mrow_is_valid\u001b[0;34m(grid, row_num)\u001b[0m\n\u001b[1;32m     24\u001b[0m         has_expected_num_unchecked = (\n\u001b[1;32m     25\u001b[0m             \u001b[0msum\u001b[0m\u001b[0;34m(\u001b[0m\u001b[0munchecked_squares\u001b[0m\u001b[0;34m)\u001b[0m \u001b[0;34m==\u001b[0m \u001b[0mnp\u001b[0m\u001b[0;34m.\u001b[0m\u001b[0mceil\u001b[0m\u001b[0;34m(\u001b[0m\u001b[0mexpected_num_unchecked\u001b[0m\u001b[0;34m)\u001b[0m\u001b[0;34m\u001b[0m\u001b[0;34m\u001b[0m\u001b[0m\n\u001b[0;32m---> 26\u001b[0;31m             \u001b[0;32mif\u001b[0m \u001b[0mROUND_UP_UNCHECKED\u001b[0m\u001b[0;34m\u001b[0m\u001b[0;34m\u001b[0m\u001b[0m\n\u001b[0m\u001b[1;32m     27\u001b[0m             else (\n\u001b[1;32m     28\u001b[0m                 \u001b[0mnp\u001b[0m\u001b[0;34m.\u001b[0m\u001b[0mfloor\u001b[0m\u001b[0;34m(\u001b[0m\u001b[0mexpected_num_unchecked\u001b[0m\u001b[0;34m)\u001b[0m\u001b[0;34m\u001b[0m\u001b[0;34m\u001b[0m\u001b[0m\n",
      "\u001b[0;31mKeyboardInterrupt\u001b[0m: "
     ]
    },
    {
     "data": {
      "application/javascript": [
       "\n",
       "            setTimeout(function() {\n",
       "                var nbb_cell_id = 211;\n",
       "                var nbb_unformatted_code = \"set_valid_rows = set([translate(row) for row in valid_rows])\\n\\nwhile valid_middle_rows_indexes:\\n    indexes = valid_middle_rows_indexes.pop()\\n    for i in range(len(valid_rows)):\\n        grid = grid_from_indexes(i, *indexes)\\n        if row_is_valid(grid, 0):\\n            if len([i, *indexes]) == GRID_LENGTH // 2 + 1:\\n                if all(\\n                    [\\n                        translate(row) in set_valid_rows\\n                        for row in np.rot90(grid)[: GRID_LENGTH // 2 + 1]\\n                    ]\\n                ):\\n                    valid_grids_indexes.append([i, *indexes])\\n            else:\\n                valid_middle_rows_indexes.append([i, *indexes])\\n        else:\\n            continue\";\n",
       "                var nbb_formatted_code = \"set_valid_rows = set([translate(row) for row in valid_rows])\\n\\nwhile valid_middle_rows_indexes:\\n    indexes = valid_middle_rows_indexes.pop()\\n    for i in range(len(valid_rows)):\\n        grid = grid_from_indexes(i, *indexes)\\n        if row_is_valid(grid, 0):\\n            if len([i, *indexes]) == GRID_LENGTH // 2 + 1:\\n                if all(\\n                    [\\n                        translate(row) in set_valid_rows\\n                        for row in np.rot90(grid)[: GRID_LENGTH // 2 + 1]\\n                    ]\\n                ):\\n                    valid_grids_indexes.append([i, *indexes])\\n            else:\\n                valid_middle_rows_indexes.append([i, *indexes])\\n        else:\\n            continue\";\n",
       "                var nbb_cells = Jupyter.notebook.get_cells();\n",
       "                for (var i = 0; i < nbb_cells.length; ++i) {\n",
       "                    if (nbb_cells[i].input_prompt_number == nbb_cell_id) {\n",
       "                        if (nbb_cells[i].get_text() == nbb_unformatted_code) {\n",
       "                             nbb_cells[i].set_text(nbb_formatted_code);\n",
       "                        }\n",
       "                        break;\n",
       "                    }\n",
       "                }\n",
       "            }, 500);\n",
       "            "
      ],
      "text/plain": [
       "<IPython.core.display.Javascript object>"
      ]
     },
     "metadata": {},
     "output_type": "display_data"
    }
   ],
   "source": [
    "set_valid_rows = set([translate(row) for row in valid_rows])\n",
    "\n",
    "while valid_middle_rows_indexes:\n",
    "    indexes = valid_middle_rows_indexes.pop()\n",
    "    for i in range(len(valid_rows)):  # Read blog post for optimization\n",
    "        grid = grid_from_indexes(i, *indexes)\n",
    "        if row_is_valid(grid, 0):\n",
    "            if len([i, *indexes]) == GRID_LENGTH // 2 + 1:\n",
    "                if all(\n",
    "                    [\n",
    "                        translate(row) in set_valid_rows\n",
    "                        for row in np.rot90(grid)[: GRID_LENGTH // 2 + 1]\n",
    "                    ]\n",
    "                ):\n",
    "                    valid_grids_indexes.append([i, *indexes])\n",
    "            else:\n",
    "                valid_middle_rows_indexes.append([i, *indexes])"
   ]
  },
  {
   "cell_type": "code",
   "execution_count": 213,
   "metadata": {},
   "outputs": [
    {
     "data": {
      "text/plain": [
       "30271"
      ]
     },
     "execution_count": 213,
     "metadata": {},
     "output_type": "execute_result"
    },
    {
     "data": {
      "application/javascript": [
       "\n",
       "            setTimeout(function() {\n",
       "                var nbb_cell_id = 213;\n",
       "                var nbb_unformatted_code = \"len(valid_grids_indexes)\";\n",
       "                var nbb_formatted_code = \"len(valid_grids_indexes)\";\n",
       "                var nbb_cells = Jupyter.notebook.get_cells();\n",
       "                for (var i = 0; i < nbb_cells.length; ++i) {\n",
       "                    if (nbb_cells[i].input_prompt_number == nbb_cell_id) {\n",
       "                        if (nbb_cells[i].get_text() == nbb_unformatted_code) {\n",
       "                             nbb_cells[i].set_text(nbb_formatted_code);\n",
       "                        }\n",
       "                        break;\n",
       "                    }\n",
       "                }\n",
       "            }, 500);\n",
       "            "
      ],
      "text/plain": [
       "<IPython.core.display.Javascript object>"
      ]
     },
     "metadata": {},
     "output_type": "display_data"
    }
   ],
   "source": [
    "len(valid_grids_indexes)"
   ]
  },
  {
   "cell_type": "code",
   "execution_count": null,
   "metadata": {},
   "outputs": [],
   "source": []
  },
  {
   "cell_type": "code",
   "execution_count": null,
   "metadata": {},
   "outputs": [],
   "source": []
  },
  {
   "cell_type": "raw",
   "metadata": {},
   "source": [
    "grid = grid_from_indexes(*valid_grids_indexes[4])\n",
    "visualize(grid)"
   ]
  },
  {
   "cell_type": "raw",
   "metadata": {},
   "source": [
    "visualize(np.rot90(grid))"
   ]
  },
  {
   "cell_type": "code",
   "execution_count": null,
   "metadata": {},
   "outputs": [],
   "source": []
  }
 ],
 "metadata": {
  "kernelspec": {
   "display_name": "Python 3",
   "language": "python",
   "name": "python3"
  },
  "language_info": {
   "codemirror_mode": {
    "name": "ipython",
    "version": 3
   },
   "file_extension": ".py",
   "mimetype": "text/x-python",
   "name": "python",
   "nbconvert_exporter": "python",
   "pygments_lexer": "ipython3",
   "version": "3.7.6"
  }
 },
 "nbformat": 4,
 "nbformat_minor": 4
}
