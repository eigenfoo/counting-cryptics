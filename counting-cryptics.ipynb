{
 "cells": [
  {
   "cell_type": "markdown",
   "metadata": {},
   "source": [
    "# Counting Cryptic Crossword Grids"
   ]
  },
  {
   "cell_type": "code",
   "execution_count": 1,
   "metadata": {},
   "outputs": [
    {
     "data": {
      "application/javascript": [
       "\n",
       "            setTimeout(function() {\n",
       "                var nbb_cell_id = 1;\n",
       "                var nbb_unformatted_code = \"%load_ext nb_black\\n\\nimport json\\nimport itertools\\nimport numpy as np\\nfrom tqdm.notebook import tqdm, trange\";\n",
       "                var nbb_formatted_code = \"%load_ext nb_black\\n\\nimport json\\nimport itertools\\nimport numpy as np\\nfrom tqdm.notebook import tqdm, trange\";\n",
       "                var nbb_cells = Jupyter.notebook.get_cells();\n",
       "                for (var i = 0; i < nbb_cells.length; ++i) {\n",
       "                    if (nbb_cells[i].input_prompt_number == nbb_cell_id) {\n",
       "                        if (nbb_cells[i].get_text() == nbb_unformatted_code) {\n",
       "                             nbb_cells[i].set_text(nbb_formatted_code);\n",
       "                        }\n",
       "                        break;\n",
       "                    }\n",
       "                }\n",
       "            }, 500);\n",
       "            "
      ],
      "text/plain": [
       "<IPython.core.display.Javascript object>"
      ]
     },
     "metadata": {},
     "output_type": "display_data"
    }
   ],
   "source": [
    "%load_ext nb_black\n",
    "\n",
    "import json\n",
    "import itertools\n",
    "import numpy as np\n",
    "from tqdm.notebook import tqdm, trange"
   ]
  },
  {
   "cell_type": "code",
   "execution_count": 2,
   "metadata": {},
   "outputs": [
    {
     "data": {
      "application/javascript": [
       "\n",
       "            setTimeout(function() {\n",
       "                var nbb_cell_id = 2;\n",
       "                var nbb_unformatted_code = \"GRID_LENGTH = 13  # FIXME: must be odd...?\\nMIN_WORD_LENGTH = 3  # Minimum allowable word length\\nROUND_UP_UNCHECKED = True  # I.e. can a 7-letter word have 3 unchecked squares?\";\n",
       "                var nbb_formatted_code = \"GRID_LENGTH = 13  # FIXME: must be odd...?\\nMIN_WORD_LENGTH = 3  # Minimum allowable word length\\nROUND_UP_UNCHECKED = True  # I.e. can a 7-letter word have 3 unchecked squares?\";\n",
       "                var nbb_cells = Jupyter.notebook.get_cells();\n",
       "                for (var i = 0; i < nbb_cells.length; ++i) {\n",
       "                    if (nbb_cells[i].input_prompt_number == nbb_cell_id) {\n",
       "                        if (nbb_cells[i].get_text() == nbb_unformatted_code) {\n",
       "                             nbb_cells[i].set_text(nbb_formatted_code);\n",
       "                        }\n",
       "                        break;\n",
       "                    }\n",
       "                }\n",
       "            }, 500);\n",
       "            "
      ],
      "text/plain": [
       "<IPython.core.display.Javascript object>"
      ]
     },
     "metadata": {},
     "output_type": "display_data"
    }
   ],
   "source": [
    "GRID_LENGTH = 13  # FIXME: must be odd...?\n",
    "MIN_WORD_LENGTH = 3  # Minimum allowable word length\n",
    "ROUND_UP_UNCHECKED = True  # I.e. can a 7-letter word have 3 unchecked squares?"
   ]
  },
  {
   "cell_type": "code",
   "execution_count": 3,
   "metadata": {},
   "outputs": [
    {
     "data": {
      "application/javascript": [
       "\n",
       "            setTimeout(function() {\n",
       "                var nbb_cell_id = 3;\n",
       "                var nbb_unformatted_code = \"# For now, True is white, False is black. We will reverse this later.\\ngrid = np.meshgrid(*[[0, 1] for _ in range(GRID_LENGTH)])\\ngrid = [mesh.flatten() for mesh in grid]\\ngrid = np.transpose(np.vstack(grid))\\ngrid = grid.astype(bool)\";\n",
       "                var nbb_formatted_code = \"# For now, True is white, False is black. We will reverse this later.\\ngrid = np.meshgrid(*[[0, 1] for _ in range(GRID_LENGTH)])\\ngrid = [mesh.flatten() for mesh in grid]\\ngrid = np.transpose(np.vstack(grid))\\ngrid = grid.astype(bool)\";\n",
       "                var nbb_cells = Jupyter.notebook.get_cells();\n",
       "                for (var i = 0; i < nbb_cells.length; ++i) {\n",
       "                    if (nbb_cells[i].input_prompt_number == nbb_cell_id) {\n",
       "                        if (nbb_cells[i].get_text() == nbb_unformatted_code) {\n",
       "                             nbb_cells[i].set_text(nbb_formatted_code);\n",
       "                        }\n",
       "                        break;\n",
       "                    }\n",
       "                }\n",
       "            }, 500);\n",
       "            "
      ],
      "text/plain": [
       "<IPython.core.display.Javascript object>"
      ]
     },
     "metadata": {},
     "output_type": "display_data"
    }
   ],
   "source": [
    "# For now, True is white, False is black. We will reverse this later.\n",
    "grid = np.meshgrid(*[[0, 1] for _ in range(GRID_LENGTH)])\n",
    "grid = [mesh.flatten() for mesh in grid]\n",
    "grid = np.transpose(np.vstack(grid))\n",
    "grid = grid.astype(bool)"
   ]
  },
  {
   "cell_type": "code",
   "execution_count": 4,
   "metadata": {},
   "outputs": [
    {
     "data": {
      "application/javascript": [
       "\n",
       "            setTimeout(function() {\n",
       "                var nbb_cell_id = 4;\n",
       "                var nbb_unformatted_code = \"def contains_run_length(row, length):\\n    \\\"\\\"\\\"\\n    If True, `row` contains a run of True values of length equal to `length`\\n    E.g.\\n        row_contains_run_length([0, 1, 1], 1) returns False\\n        row_contains_run_length([0, 1, 1], 2) returns True\\n    \\\"\\\"\\\"\\n    # This is why we have white and black flipped - to sum lengths of _whites_\\n    return any([sum(group) == length for _, group in itertools.groupby(row)])\";\n",
       "                var nbb_formatted_code = \"def contains_run_length(row, length):\\n    \\\"\\\"\\\"\\n    If True, `row` contains a run of True values of length equal to `length`\\n    E.g.\\n        row_contains_run_length([0, 1, 1], 1) returns False\\n        row_contains_run_length([0, 1, 1], 2) returns True\\n    \\\"\\\"\\\"\\n    # This is why we have white and black flipped - to sum lengths of _whites_\\n    return any([sum(group) == length for _, group in itertools.groupby(row)])\";\n",
       "                var nbb_cells = Jupyter.notebook.get_cells();\n",
       "                for (var i = 0; i < nbb_cells.length; ++i) {\n",
       "                    if (nbb_cells[i].input_prompt_number == nbb_cell_id) {\n",
       "                        if (nbb_cells[i].get_text() == nbb_unformatted_code) {\n",
       "                             nbb_cells[i].set_text(nbb_formatted_code);\n",
       "                        }\n",
       "                        break;\n",
       "                    }\n",
       "                }\n",
       "            }, 500);\n",
       "            "
      ],
      "text/plain": [
       "<IPython.core.display.Javascript object>"
      ]
     },
     "metadata": {},
     "output_type": "display_data"
    }
   ],
   "source": [
    "def contains_run_length(row, length):\n",
    "    \"\"\"\n",
    "    If True, `row` contains a run of True values of length equal to `length`\n",
    "    E.g.\n",
    "        row_contains_run_length([0, 1, 1], 1) returns False\n",
    "        row_contains_run_length([0, 1, 1], 2) returns True\n",
    "    \"\"\"\n",
    "    # This is why we have white and black flipped - to sum lengths of _whites_\n",
    "    return any([sum(group) == length for _, group in itertools.groupby(row)])"
   ]
  },
  {
   "cell_type": "code",
   "execution_count": 5,
   "metadata": {},
   "outputs": [
    {
     "data": {
      "application/javascript": [
       "\n",
       "            setTimeout(function() {\n",
       "                var nbb_cell_id = 5;\n",
       "                var nbb_unformatted_code = \"# Compute all valid rows\\n\\nfor length in range(2, MIN_WORD_LENGTH):\\n    rows_to_delete = []\\n    for i, row in enumerate(grid):\\n        if contains_run_length(row, length):\\n            rows_to_delete.append(i)\\n    grid = np.delete(grid, rows_to_delete, axis=0)\\n\\nvalid_rows = np.copy(grid)\\nvalid_rows = ~valid_rows  # True is black, False is white\\nvalid_rows = valid_rows[np.sum(valid_rows, axis=1) < 13]  # Remove all-black row\\nflipped_valid_rows = np.flip(valid_rows, axis=1)  # Precompute flipped rows for later\";\n",
       "                var nbb_formatted_code = \"# Compute all valid rows\\n\\nfor length in range(2, MIN_WORD_LENGTH):\\n    rows_to_delete = []\\n    for i, row in enumerate(grid):\\n        if contains_run_length(row, length):\\n            rows_to_delete.append(i)\\n    grid = np.delete(grid, rows_to_delete, axis=0)\\n\\nvalid_rows = np.copy(grid)\\nvalid_rows = ~valid_rows  # True is black, False is white\\nvalid_rows = valid_rows[np.sum(valid_rows, axis=1) < 13]  # Remove all-black row\\nflipped_valid_rows = np.flip(valid_rows, axis=1)  # Precompute flipped rows for later\";\n",
       "                var nbb_cells = Jupyter.notebook.get_cells();\n",
       "                for (var i = 0; i < nbb_cells.length; ++i) {\n",
       "                    if (nbb_cells[i].input_prompt_number == nbb_cell_id) {\n",
       "                        if (nbb_cells[i].get_text() == nbb_unformatted_code) {\n",
       "                             nbb_cells[i].set_text(nbb_formatted_code);\n",
       "                        }\n",
       "                        break;\n",
       "                    }\n",
       "                }\n",
       "            }, 500);\n",
       "            "
      ],
      "text/plain": [
       "<IPython.core.display.Javascript object>"
      ]
     },
     "metadata": {},
     "output_type": "display_data"
    }
   ],
   "source": [
    "# Compute all valid rows\n",
    "\n",
    "for length in range(2, MIN_WORD_LENGTH):\n",
    "    rows_to_delete = []\n",
    "    for i, row in enumerate(grid):\n",
    "        if contains_run_length(row, length):\n",
    "            rows_to_delete.append(i)\n",
    "    grid = np.delete(grid, rows_to_delete, axis=0)\n",
    "\n",
    "valid_rows = np.copy(grid)\n",
    "valid_rows = ~valid_rows  # True is black, False is white\n",
    "valid_rows = valid_rows[np.sum(valid_rows, axis=1) < 13]  # Remove all-black row\n",
    "flipped_valid_rows = np.flip(valid_rows, axis=1)  # Precompute flipped rows for later"
   ]
  },
  {
   "cell_type": "code",
   "execution_count": 6,
   "metadata": {},
   "outputs": [
    {
     "data": {
      "application/javascript": [
       "\n",
       "            setTimeout(function() {\n",
       "                var nbb_cell_id = 6;\n",
       "                var nbb_unformatted_code = \"# Compute all symmetric rows\\n\\nsymmetric_row_indexes = []\\nfor i, row in enumerate(grid):\\n    if all(row == np.flip(row)):\\n        symmetric_row_indexes.append(i)\\n\\nsymmetric_rows = np.copy(grid[symmetric_row_indexes])\\nsymmetric_rows = ~symmetric_rows  # True is black, False is white\\nsymmetric_rows = symmetric_rows[\\n    np.sum(symmetric_rows, axis=1) < 13\\n]  # Remove all-black row\";\n",
       "                var nbb_formatted_code = \"# Compute all symmetric rows\\n\\nsymmetric_row_indexes = []\\nfor i, row in enumerate(grid):\\n    if all(row == np.flip(row)):\\n        symmetric_row_indexes.append(i)\\n\\nsymmetric_rows = np.copy(grid[symmetric_row_indexes])\\nsymmetric_rows = ~symmetric_rows  # True is black, False is white\\nsymmetric_rows = symmetric_rows[\\n    np.sum(symmetric_rows, axis=1) < 13\\n]  # Remove all-black row\";\n",
       "                var nbb_cells = Jupyter.notebook.get_cells();\n",
       "                for (var i = 0; i < nbb_cells.length; ++i) {\n",
       "                    if (nbb_cells[i].input_prompt_number == nbb_cell_id) {\n",
       "                        if (nbb_cells[i].get_text() == nbb_unformatted_code) {\n",
       "                             nbb_cells[i].set_text(nbb_formatted_code);\n",
       "                        }\n",
       "                        break;\n",
       "                    }\n",
       "                }\n",
       "            }, 500);\n",
       "            "
      ],
      "text/plain": [
       "<IPython.core.display.Javascript object>"
      ]
     },
     "metadata": {},
     "output_type": "display_data"
    }
   ],
   "source": [
    "# Compute all symmetric rows\n",
    "\n",
    "symmetric_row_indexes = []\n",
    "for i, row in enumerate(grid):\n",
    "    if all(row == np.flip(row)):\n",
    "        symmetric_row_indexes.append(i)\n",
    "\n",
    "symmetric_rows = np.copy(grid[symmetric_row_indexes])\n",
    "symmetric_rows = ~symmetric_rows  # True is black, False is white\n",
    "symmetric_rows = symmetric_rows[\n",
    "    np.sum(symmetric_rows, axis=1) < 13\n",
    "]  # Remove all-black row"
   ]
  },
  {
   "cell_type": "code",
   "execution_count": 7,
   "metadata": {},
   "outputs": [
    {
     "data": {
      "application/javascript": [
       "\n",
       "            setTimeout(function() {\n",
       "                var nbb_cell_id = 7;\n",
       "                var nbb_unformatted_code = \"def row_is_valid(grid, row_num):\\n    (word_starts_indexes,) = np.where(\\n        np.append(\\n            [np.logical_not(grid[row_num][0])], np.diff(grid[row_num].astype(int)) == -1\\n        )\\n    )\\n    (word_ends_indexes,) = np.where(\\n        np.append(\\n            np.diff(grid[row_num].astype(int)) == 1, [np.logical_not(grid[row_num][-1])]\\n        )\\n    )\\n\\n    for word_start_index, word_end_index in zip(word_starts_indexes, word_ends_indexes):\\n        subgrid = grid[:, word_start_index : word_end_index + 1]\\n        if 0 < row_num < grid.shape[0] - 1:\\n            unchecked_squares = np.logical_and(*subgrid[[row_num - 1, row_num + 1]])\\n        elif row_num == 0:\\n            unchecked_squares = subgrid[1]\\n        elif row_num == grid.shape[0] - 1:\\n            unchecked_squares = subgrid[grid.shape[0] - 2]\\n\\n        expected_num_unchecked = (word_end_index - word_start_index) / 2\\n\\n        has_expected_num_unchecked = (\\n            sum(unchecked_squares) == np.ceil(expected_num_unchecked)\\n            if ROUND_UP_UNCHECKED\\n            else (\\n                np.floor(expected_num_unchecked)\\n                <= sum(unchecked_squares)\\n                <= np.ceil(expected_num_unchecked)\\n            )\\n        )\\n        has_max_two_consecutive_unchecked = all(\\n            [\\n                sum(group) <= 2\\n                for bit, group in itertools.groupby(unchecked_squares)\\n                if bit\\n            ]\\n        )\\n        ends_not_two_consecutive_unchecked = not (\\n            all(unchecked_squares[:2]) or all(unchecked_squares[-2:])\\n        )\\n\\n        if not (\\n            has_expected_num_unchecked\\n            and has_max_two_consecutive_unchecked\\n            and ends_not_two_consecutive_unchecked\\n        ):\\n            return False\\n\\n    return True\";\n",
       "                var nbb_formatted_code = \"def row_is_valid(grid, row_num):\\n    (word_starts_indexes,) = np.where(\\n        np.append(\\n            [np.logical_not(grid[row_num][0])], np.diff(grid[row_num].astype(int)) == -1\\n        )\\n    )\\n    (word_ends_indexes,) = np.where(\\n        np.append(\\n            np.diff(grid[row_num].astype(int)) == 1, [np.logical_not(grid[row_num][-1])]\\n        )\\n    )\\n\\n    for word_start_index, word_end_index in zip(word_starts_indexes, word_ends_indexes):\\n        subgrid = grid[:, word_start_index : word_end_index + 1]\\n        if 0 < row_num < grid.shape[0] - 1:\\n            unchecked_squares = np.logical_and(*subgrid[[row_num - 1, row_num + 1]])\\n        elif row_num == 0:\\n            unchecked_squares = subgrid[1]\\n        elif row_num == grid.shape[0] - 1:\\n            unchecked_squares = subgrid[grid.shape[0] - 2]\\n\\n        expected_num_unchecked = (word_end_index - word_start_index) / 2\\n\\n        has_expected_num_unchecked = (\\n            sum(unchecked_squares) == np.ceil(expected_num_unchecked)\\n            if ROUND_UP_UNCHECKED\\n            else (\\n                np.floor(expected_num_unchecked)\\n                <= sum(unchecked_squares)\\n                <= np.ceil(expected_num_unchecked)\\n            )\\n        )\\n        has_max_two_consecutive_unchecked = all(\\n            [\\n                sum(group) <= 2\\n                for bit, group in itertools.groupby(unchecked_squares)\\n                if bit\\n            ]\\n        )\\n        ends_not_two_consecutive_unchecked = not (\\n            all(unchecked_squares[:2]) or all(unchecked_squares[-2:])\\n        )\\n\\n        if not (\\n            has_expected_num_unchecked\\n            and has_max_two_consecutive_unchecked\\n            and ends_not_two_consecutive_unchecked\\n        ):\\n            return False\\n\\n    return True\";\n",
       "                var nbb_cells = Jupyter.notebook.get_cells();\n",
       "                for (var i = 0; i < nbb_cells.length; ++i) {\n",
       "                    if (nbb_cells[i].input_prompt_number == nbb_cell_id) {\n",
       "                        if (nbb_cells[i].get_text() == nbb_unformatted_code) {\n",
       "                             nbb_cells[i].set_text(nbb_formatted_code);\n",
       "                        }\n",
       "                        break;\n",
       "                    }\n",
       "                }\n",
       "            }, 500);\n",
       "            "
      ],
      "text/plain": [
       "<IPython.core.display.Javascript object>"
      ]
     },
     "metadata": {},
     "output_type": "display_data"
    }
   ],
   "source": [
    "def row_is_valid(grid, row_num):\n",
    "    (word_starts_indexes,) = np.where(\n",
    "        np.append(\n",
    "            [np.logical_not(grid[row_num][0])], np.diff(grid[row_num].astype(int)) == -1\n",
    "        )\n",
    "    )\n",
    "    (word_ends_indexes,) = np.where(\n",
    "        np.append(\n",
    "            np.diff(grid[row_num].astype(int)) == 1, [np.logical_not(grid[row_num][-1])]\n",
    "        )\n",
    "    )\n",
    "\n",
    "    for word_start_index, word_end_index in zip(word_starts_indexes, word_ends_indexes):\n",
    "        subgrid = grid[:, word_start_index : word_end_index + 1]\n",
    "        if 0 < row_num < grid.shape[0] - 1:\n",
    "            unchecked_squares = np.logical_and(*subgrid[[row_num - 1, row_num + 1]])\n",
    "        elif row_num == 0:\n",
    "            unchecked_squares = subgrid[1]\n",
    "        elif row_num == grid.shape[0] - 1:\n",
    "            unchecked_squares = subgrid[grid.shape[0] - 2]\n",
    "\n",
    "        expected_num_unchecked = (word_end_index - word_start_index) / 2\n",
    "\n",
    "        has_expected_num_unchecked = (\n",
    "            sum(unchecked_squares) == np.ceil(expected_num_unchecked)\n",
    "            if ROUND_UP_UNCHECKED\n",
    "            else (\n",
    "                np.floor(expected_num_unchecked)\n",
    "                <= sum(unchecked_squares)\n",
    "                <= np.ceil(expected_num_unchecked)\n",
    "            )\n",
    "        )\n",
    "        has_max_two_consecutive_unchecked = all(\n",
    "            [\n",
    "                sum(group) <= 2\n",
    "                for bit, group in itertools.groupby(unchecked_squares)\n",
    "                if bit\n",
    "            ]\n",
    "        )\n",
    "        ends_not_two_consecutive_unchecked = not (\n",
    "            all(unchecked_squares[:2]) or all(unchecked_squares[-2:])\n",
    "        )\n",
    "\n",
    "        if not (\n",
    "            has_expected_num_unchecked\n",
    "            and has_max_two_consecutive_unchecked\n",
    "            and ends_not_two_consecutive_unchecked\n",
    "        ):\n",
    "            return False\n",
    "\n",
    "    return True"
   ]
  },
  {
   "cell_type": "raw",
   "metadata": {
    "scrolled": true
   },
   "source": [
    "valid_middle_rows_indexes = []\n",
    "\n",
    "for i, row1 in tqdm(enumerate(valid_rows), total=valid_rows.shape[0]):\n",
    "    for j, row2 in enumerate(symmetric_rows):\n",
    "        grid = np.vstack(\n",
    "            [\n",
    "                row1,\n",
    "                row2,\n",
    "                np.flip(row1),\n",
    "            ]\n",
    "        )\n",
    "        if all(\n",
    "            [\n",
    "                row_is_valid(\n",
    "                    grid,\n",
    "                    k,\n",
    "                )\n",
    "                for k in range(2)  # By symmetry, only need to check 0 and 1\n",
    "            ]\n",
    "        ):\n",
    "            valid_middle_rows_indexes.append((i, j))"
   ]
  },
  {
   "cell_type": "raw",
   "metadata": {},
   "source": [
    "with open(\"valid_middle_rows_indexes.json\", \"w\") as f:\n",
    "    json.dump(valid_middle_rows_indexes, f)"
   ]
  },
  {
   "cell_type": "code",
   "execution_count": 8,
   "metadata": {},
   "outputs": [
    {
     "data": {
      "application/javascript": [
       "\n",
       "            setTimeout(function() {\n",
       "                var nbb_cell_id = 8;\n",
       "                var nbb_unformatted_code = \"def grid_from_indexes(*indexes):\\n    return np.vstack(\\n        [valid_rows[i] for i in indexes[:-1]]\\n        + [symmetric_rows[indexes[-1]]]\\n        # Make sure to reverse the flipped rows!\\n        + [flipped_valid_rows[i] for i in indexes[:-1]][::-1]\\n    )\\n\\n\\ndef translate(row):\\n    return \\\"\\\".join([\\\"\\u2b1b\\\" if x else \\\"\\u2b1c\\\" for x in row])\\n\\n\\ndef visualize(grid):\\n    print(\\\"\\\\n\\\".join([translate(row) for row in grid]))\";\n",
       "                var nbb_formatted_code = \"def grid_from_indexes(*indexes):\\n    return np.vstack(\\n        [valid_rows[i] for i in indexes[:-1]]\\n        + [symmetric_rows[indexes[-1]]]\\n        # Make sure to reverse the flipped rows!\\n        + [flipped_valid_rows[i] for i in indexes[:-1]][::-1]\\n    )\\n\\n\\ndef translate(row):\\n    return \\\"\\\".join([\\\"\\u2b1b\\\" if x else \\\"\\u2b1c\\\" for x in row])\\n\\n\\ndef visualize(grid):\\n    print(\\\"\\\\n\\\".join([translate(row) for row in grid]))\";\n",
       "                var nbb_cells = Jupyter.notebook.get_cells();\n",
       "                for (var i = 0; i < nbb_cells.length; ++i) {\n",
       "                    if (nbb_cells[i].input_prompt_number == nbb_cell_id) {\n",
       "                        if (nbb_cells[i].get_text() == nbb_unformatted_code) {\n",
       "                             nbb_cells[i].set_text(nbb_formatted_code);\n",
       "                        }\n",
       "                        break;\n",
       "                    }\n",
       "                }\n",
       "            }, 500);\n",
       "            "
      ],
      "text/plain": [
       "<IPython.core.display.Javascript object>"
      ]
     },
     "metadata": {},
     "output_type": "display_data"
    }
   ],
   "source": [
    "def grid_from_indexes(*indexes):\n",
    "    return np.vstack(\n",
    "        [valid_rows[i] for i in indexes[:-1]]\n",
    "        + [symmetric_rows[indexes[-1]]]\n",
    "        # Make sure to reverse the flipped rows!\n",
    "        + [flipped_valid_rows[i] for i in indexes[:-1]][::-1]\n",
    "    )\n",
    "\n",
    "\n",
    "def translate(row):\n",
    "    return \"\".join([\"⬛\" if x else \"⬜\" for x in row])\n",
    "\n",
    "\n",
    "def visualize(grid):\n",
    "    print(\"\\n\".join([translate(row) for row in grid]))"
   ]
  },
  {
   "cell_type": "code",
   "execution_count": 9,
   "metadata": {},
   "outputs": [
    {
     "name": "stdout",
     "output_type": "stream",
     "text": [
      "7133\n"
     ]
    },
    {
     "data": {
      "application/javascript": [
       "\n",
       "            setTimeout(function() {\n",
       "                var nbb_cell_id = 9;\n",
       "                var nbb_unformatted_code = \"with open(\\\"valid_middle_rows_indexes.json\\\", \\\"r\\\") as f:\\n    valid_middle_rows_indexes = json.load(f)\\nprint(len(valid_middle_rows_indexes))\";\n",
       "                var nbb_formatted_code = \"with open(\\\"valid_middle_rows_indexes.json\\\", \\\"r\\\") as f:\\n    valid_middle_rows_indexes = json.load(f)\\nprint(len(valid_middle_rows_indexes))\";\n",
       "                var nbb_cells = Jupyter.notebook.get_cells();\n",
       "                for (var i = 0; i < nbb_cells.length; ++i) {\n",
       "                    if (nbb_cells[i].input_prompt_number == nbb_cell_id) {\n",
       "                        if (nbb_cells[i].get_text() == nbb_unformatted_code) {\n",
       "                             nbb_cells[i].set_text(nbb_formatted_code);\n",
       "                        }\n",
       "                        break;\n",
       "                    }\n",
       "                }\n",
       "            }, 500);\n",
       "            "
      ],
      "text/plain": [
       "<IPython.core.display.Javascript object>"
      ]
     },
     "metadata": {},
     "output_type": "display_data"
    }
   ],
   "source": [
    "with open(\"valid_middle_rows_indexes.json\", \"r\") as f:\n",
    "    valid_middle_rows_indexes = json.load(f)\n",
    "print(len(valid_middle_rows_indexes))"
   ]
  },
  {
   "cell_type": "code",
   "execution_count": 10,
   "metadata": {},
   "outputs": [
    {
     "ename": "KeyboardInterrupt",
     "evalue": "",
     "output_type": "error",
     "traceback": [
      "\u001b[0;31m---------------------------------------------------------------------------\u001b[0m",
      "\u001b[0;31mKeyboardInterrupt\u001b[0m                         Traceback (most recent call last)",
      "\u001b[0;32m<ipython-input-10-bcef8177173c>\u001b[0m in \u001b[0;36m<module>\u001b[0;34m\u001b[0m\n\u001b[1;32m     17\u001b[0m \u001b[0;34m\u001b[0m\u001b[0m\n\u001b[1;32m     18\u001b[0m     \u001b[0;32mfor\u001b[0m \u001b[0mi\u001b[0m \u001b[0;32min\u001b[0m \u001b[0mvalid_rows_to_search_indexes\u001b[0m\u001b[0;34m:\u001b[0m\u001b[0;34m\u001b[0m\u001b[0;34m\u001b[0m\u001b[0m\n\u001b[0;32m---> 19\u001b[0;31m         \u001b[0mgrid\u001b[0m \u001b[0;34m=\u001b[0m \u001b[0mgrid_from_indexes\u001b[0m\u001b[0;34m(\u001b[0m\u001b[0mi\u001b[0m\u001b[0;34m,\u001b[0m \u001b[0;34m*\u001b[0m\u001b[0mindexes\u001b[0m\u001b[0;34m)\u001b[0m\u001b[0;34m\u001b[0m\u001b[0;34m\u001b[0m\u001b[0m\n\u001b[0m\u001b[1;32m     20\u001b[0m         \u001b[0;32mif\u001b[0m \u001b[0mrow_is_valid\u001b[0m\u001b[0;34m(\u001b[0m\u001b[0mgrid\u001b[0m\u001b[0;34m,\u001b[0m \u001b[0;36m0\u001b[0m\u001b[0;34m)\u001b[0m\u001b[0;34m:\u001b[0m\u001b[0;34m\u001b[0m\u001b[0;34m\u001b[0m\u001b[0m\n\u001b[1;32m     21\u001b[0m             \u001b[0;32mif\u001b[0m \u001b[0mlen\u001b[0m\u001b[0;34m(\u001b[0m\u001b[0;34m[\u001b[0m\u001b[0mi\u001b[0m\u001b[0;34m,\u001b[0m \u001b[0;34m*\u001b[0m\u001b[0mindexes\u001b[0m\u001b[0;34m]\u001b[0m\u001b[0;34m)\u001b[0m \u001b[0;34m==\u001b[0m \u001b[0mGRID_LENGTH\u001b[0m \u001b[0;34m//\u001b[0m \u001b[0;36m2\u001b[0m \u001b[0;34m+\u001b[0m \u001b[0;36m1\u001b[0m\u001b[0;34m:\u001b[0m\u001b[0;34m\u001b[0m\u001b[0;34m\u001b[0m\u001b[0m\n",
      "\u001b[0;32m<ipython-input-8-76d22d34fe1e>\u001b[0m in \u001b[0;36mgrid_from_indexes\u001b[0;34m(*indexes)\u001b[0m\n\u001b[1;32m      1\u001b[0m \u001b[0;32mdef\u001b[0m \u001b[0mgrid_from_indexes\u001b[0m\u001b[0;34m(\u001b[0m\u001b[0;34m*\u001b[0m\u001b[0mindexes\u001b[0m\u001b[0;34m)\u001b[0m\u001b[0;34m:\u001b[0m\u001b[0;34m\u001b[0m\u001b[0;34m\u001b[0m\u001b[0m\n\u001b[0;32m----> 2\u001b[0;31m     return np.vstack(\n\u001b[0m\u001b[1;32m      3\u001b[0m         \u001b[0;34m[\u001b[0m\u001b[0mvalid_rows\u001b[0m\u001b[0;34m[\u001b[0m\u001b[0mi\u001b[0m\u001b[0;34m]\u001b[0m \u001b[0;32mfor\u001b[0m \u001b[0mi\u001b[0m \u001b[0;32min\u001b[0m \u001b[0mindexes\u001b[0m\u001b[0;34m[\u001b[0m\u001b[0;34m:\u001b[0m\u001b[0;34m-\u001b[0m\u001b[0;36m1\u001b[0m\u001b[0;34m]\u001b[0m\u001b[0;34m]\u001b[0m\u001b[0;34m\u001b[0m\u001b[0;34m\u001b[0m\u001b[0m\n\u001b[1;32m      4\u001b[0m         \u001b[0;34m+\u001b[0m \u001b[0;34m[\u001b[0m\u001b[0msymmetric_rows\u001b[0m\u001b[0;34m[\u001b[0m\u001b[0mindexes\u001b[0m\u001b[0;34m[\u001b[0m\u001b[0;34m-\u001b[0m\u001b[0;36m1\u001b[0m\u001b[0;34m]\u001b[0m\u001b[0;34m]\u001b[0m\u001b[0;34m]\u001b[0m\u001b[0;34m\u001b[0m\u001b[0;34m\u001b[0m\u001b[0m\n\u001b[1;32m      5\u001b[0m         \u001b[0;31m# Make sure to reverse the flipped rows!\u001b[0m\u001b[0;34m\u001b[0m\u001b[0;34m\u001b[0m\u001b[0;34m\u001b[0m\u001b[0m\n",
      "\u001b[0;31mKeyboardInterrupt\u001b[0m: "
     ]
    },
    {
     "data": {
      "application/javascript": [
       "\n",
       "            setTimeout(function() {\n",
       "                var nbb_cell_id = 10;\n",
       "                var nbb_unformatted_code = \"valid_grids_indexes = []\\nvalid_middle_rows_indexes = [valid_middle_rows_indexes[-1]]  # FIXME: remove me!\\n\\nset_valid_rows = set([translate(row) for row in valid_rows])\\n\\nwhile valid_middle_rows_indexes:\\n    indexes = valid_middle_rows_indexes.pop()\\n\\n    (must_be_whites_indexes,) = np.where(\\n        (grid_from_indexes(*indexes)[:3].T == np.array([True, False, False])).all(\\n            axis=1\\n        )\\n    )\\n    (valid_rows_to_search_indexes,) = np.where(\\n        valid_rows[:, must_be_whites_indexes].all(axis=1)\\n    )\\n\\n    for i in valid_rows_to_search_indexes:\\n        grid = grid_from_indexes(i, *indexes)\\n        if row_is_valid(grid, 0):\\n            if len([i, *indexes]) == GRID_LENGTH // 2 + 1:\\n                if all(\\n                    [\\n                        translate(row) in set_valid_rows\\n                        for row in np.rot90(grid)[: GRID_LENGTH // 2 + 1]\\n                    ]\\n                ):\\n                    valid_grids_indexes.append([i, *indexes])\\n            else:\\n                valid_middle_rows_indexes.append([i, *indexes])\";\n",
       "                var nbb_formatted_code = \"valid_grids_indexes = []\\nvalid_middle_rows_indexes = [valid_middle_rows_indexes[-1]]  # FIXME: remove me!\\n\\nset_valid_rows = set([translate(row) for row in valid_rows])\\n\\nwhile valid_middle_rows_indexes:\\n    indexes = valid_middle_rows_indexes.pop()\\n\\n    (must_be_whites_indexes,) = np.where(\\n        (grid_from_indexes(*indexes)[:3].T == np.array([True, False, False])).all(\\n            axis=1\\n        )\\n    )\\n    (valid_rows_to_search_indexes,) = np.where(\\n        valid_rows[:, must_be_whites_indexes].all(axis=1)\\n    )\\n\\n    for i in valid_rows_to_search_indexes:\\n        grid = grid_from_indexes(i, *indexes)\\n        if row_is_valid(grid, 0):\\n            if len([i, *indexes]) == GRID_LENGTH // 2 + 1:\\n                if all(\\n                    [\\n                        translate(row) in set_valid_rows\\n                        for row in np.rot90(grid)[: GRID_LENGTH // 2 + 1]\\n                    ]\\n                ):\\n                    valid_grids_indexes.append([i, *indexes])\\n            else:\\n                valid_middle_rows_indexes.append([i, *indexes])\";\n",
       "                var nbb_cells = Jupyter.notebook.get_cells();\n",
       "                for (var i = 0; i < nbb_cells.length; ++i) {\n",
       "                    if (nbb_cells[i].input_prompt_number == nbb_cell_id) {\n",
       "                        if (nbb_cells[i].get_text() == nbb_unformatted_code) {\n",
       "                             nbb_cells[i].set_text(nbb_formatted_code);\n",
       "                        }\n",
       "                        break;\n",
       "                    }\n",
       "                }\n",
       "            }, 500);\n",
       "            "
      ],
      "text/plain": [
       "<IPython.core.display.Javascript object>"
      ]
     },
     "metadata": {},
     "output_type": "display_data"
    }
   ],
   "source": [
    "valid_grids_indexes = []\n",
    "valid_middle_rows_indexes = [valid_middle_rows_indexes[-1]]  # FIXME: remove me!\n",
    "\n",
    "set_valid_rows = set([translate(row) for row in valid_rows])\n",
    "\n",
    "while valid_middle_rows_indexes:\n",
    "    indexes = valid_middle_rows_indexes.pop()\n",
    "\n",
    "    (must_be_whites_indexes,) = np.where(\n",
    "        (grid_from_indexes(*indexes)[:3].T == np.array([True, False, False])).all(\n",
    "            axis=1\n",
    "        )\n",
    "    )\n",
    "    (valid_rows_to_search_indexes,) = np.where(\n",
    "        valid_rows[:, must_be_whites_indexes].all(axis=1)\n",
    "    )\n",
    "\n",
    "    for i in valid_rows_to_search_indexes:\n",
    "        grid = grid_from_indexes(i, *indexes)\n",
    "        if row_is_valid(grid, 0):\n",
    "            if len([i, *indexes]) == GRID_LENGTH // 2 + 1:\n",
    "                if all(\n",
    "                    [\n",
    "                        translate(row) in set_valid_rows\n",
    "                        for row in np.rot90(grid)[: GRID_LENGTH // 2 + 1]\n",
    "                    ]\n",
    "                ):\n",
    "                    valid_grids_indexes.append([i, *indexes])\n",
    "            else:\n",
    "                valid_middle_rows_indexes.append([i, *indexes])"
   ]
  },
  {
   "cell_type": "code",
   "execution_count": 11,
   "metadata": {},
   "outputs": [
    {
     "data": {
      "text/plain": [
       "37386"
      ]
     },
     "execution_count": 11,
     "metadata": {},
     "output_type": "execute_result"
    },
    {
     "data": {
      "application/javascript": [
       "\n",
       "            setTimeout(function() {\n",
       "                var nbb_cell_id = 11;\n",
       "                var nbb_unformatted_code = \"len(valid_grids_indexes)\";\n",
       "                var nbb_formatted_code = \"len(valid_grids_indexes)\";\n",
       "                var nbb_cells = Jupyter.notebook.get_cells();\n",
       "                for (var i = 0; i < nbb_cells.length; ++i) {\n",
       "                    if (nbb_cells[i].input_prompt_number == nbb_cell_id) {\n",
       "                        if (nbb_cells[i].get_text() == nbb_unformatted_code) {\n",
       "                             nbb_cells[i].set_text(nbb_formatted_code);\n",
       "                        }\n",
       "                        break;\n",
       "                    }\n",
       "                }\n",
       "            }, 500);\n",
       "            "
      ],
      "text/plain": [
       "<IPython.core.display.Javascript object>"
      ]
     },
     "metadata": {},
     "output_type": "display_data"
    }
   ],
   "source": [
    "len(valid_grids_indexes)"
   ]
  },
  {
   "cell_type": "code",
   "execution_count": null,
   "metadata": {},
   "outputs": [],
   "source": []
  },
  {
   "cell_type": "code",
   "execution_count": null,
   "metadata": {},
   "outputs": [],
   "source": []
  }
 ],
 "metadata": {
  "kernelspec": {
   "display_name": "Python 3",
   "language": "python",
   "name": "python3"
  },
  "language_info": {
   "codemirror_mode": {
    "name": "ipython",
    "version": 3
   },
   "file_extension": ".py",
   "mimetype": "text/x-python",
   "name": "python",
   "nbconvert_exporter": "python",
   "pygments_lexer": "ipython3",
   "version": "3.7.6"
  }
 },
 "nbformat": 4,
 "nbformat_minor": 4
}
