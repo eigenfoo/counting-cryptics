{
 "cells": [
  {
   "cell_type": "markdown",
   "metadata": {},
   "source": [
    "# Counting Cryptic Crossword Grids"
   ]
  },
  {
   "cell_type": "code",
   "execution_count": 1,
   "metadata": {},
   "outputs": [
    {
     "data": {
      "application/javascript": [
       "\n",
       "            setTimeout(function() {\n",
       "                var nbb_cell_id = 1;\n",
       "                var nbb_unformatted_code = \"%load_ext nb_black\\n\\nimport json\\nimport itertools\\nimport numpy as np\\nfrom tqdm.notebook import tqdm, trange\\nfrom joblib import Parallel, delayed\";\n",
       "                var nbb_formatted_code = \"%load_ext nb_black\\n\\nimport json\\nimport itertools\\nimport numpy as np\\nfrom tqdm.notebook import tqdm, trange\\nfrom joblib import Parallel, delayed\";\n",
       "                var nbb_cells = Jupyter.notebook.get_cells();\n",
       "                for (var i = 0; i < nbb_cells.length; ++i) {\n",
       "                    if (nbb_cells[i].input_prompt_number == nbb_cell_id) {\n",
       "                        if (nbb_cells[i].get_text() == nbb_unformatted_code) {\n",
       "                             nbb_cells[i].set_text(nbb_formatted_code);\n",
       "                        }\n",
       "                        break;\n",
       "                    }\n",
       "                }\n",
       "            }, 500);\n",
       "            "
      ],
      "text/plain": [
       "<IPython.core.display.Javascript object>"
      ]
     },
     "metadata": {},
     "output_type": "display_data"
    }
   ],
   "source": [
    "%load_ext nb_black\n",
    "\n",
    "import json\n",
    "import itertools\n",
    "import numpy as np\n",
    "from tqdm.notebook import tqdm, trange\n",
    "from joblib import Parallel, delayed"
   ]
  },
  {
   "cell_type": "code",
   "execution_count": 2,
   "metadata": {},
   "outputs": [
    {
     "data": {
      "application/javascript": [
       "\n",
       "            setTimeout(function() {\n",
       "                var nbb_cell_id = 2;\n",
       "                var nbb_unformatted_code = \"GRID_LENGTH = 9  # Must be odd, and must be > 3\\nMIN_WORD_LENGTH = 3  # Minimum allowable word length\\nROUND_UP_UNCHECKED = True  # I.e. must a 7-letter word have 4 unchecked squares?\\nNUM_WORKERS = 3\";\n",
       "                var nbb_formatted_code = \"GRID_LENGTH = 9  # Must be odd, and must be > 3\\nMIN_WORD_LENGTH = 3  # Minimum allowable word length\\nROUND_UP_UNCHECKED = True  # I.e. must a 7-letter word have 4 unchecked squares?\\nNUM_WORKERS = 3\";\n",
       "                var nbb_cells = Jupyter.notebook.get_cells();\n",
       "                for (var i = 0; i < nbb_cells.length; ++i) {\n",
       "                    if (nbb_cells[i].input_prompt_number == nbb_cell_id) {\n",
       "                        if (nbb_cells[i].get_text() == nbb_unformatted_code) {\n",
       "                             nbb_cells[i].set_text(nbb_formatted_code);\n",
       "                        }\n",
       "                        break;\n",
       "                    }\n",
       "                }\n",
       "            }, 500);\n",
       "            "
      ],
      "text/plain": [
       "<IPython.core.display.Javascript object>"
      ]
     },
     "metadata": {},
     "output_type": "display_data"
    }
   ],
   "source": [
    "GRID_LENGTH = 9  # Must be odd, and must be > 3\n",
    "MIN_WORD_LENGTH = 3  # Minimum allowable word length\n",
    "ROUND_UP_UNCHECKED = True  # I.e. must a 7-letter word have 4 unchecked squares?\n",
    "NUM_WORKERS = 3"
   ]
  },
  {
   "cell_type": "code",
   "execution_count": 3,
   "metadata": {},
   "outputs": [
    {
     "data": {
      "application/javascript": [
       "\n",
       "            setTimeout(function() {\n",
       "                var nbb_cell_id = 3;\n",
       "                var nbb_unformatted_code = \"# For now, True is white, False is black. We will reverse this later.\\ngrid = np.meshgrid(*[[0, 1] for _ in range(GRID_LENGTH)])\\ngrid = [mesh.flatten() for mesh in grid]\\ngrid = np.transpose(np.vstack(grid))\\ngrid = grid.astype(bool)\";\n",
       "                var nbb_formatted_code = \"# For now, True is white, False is black. We will reverse this later.\\ngrid = np.meshgrid(*[[0, 1] for _ in range(GRID_LENGTH)])\\ngrid = [mesh.flatten() for mesh in grid]\\ngrid = np.transpose(np.vstack(grid))\\ngrid = grid.astype(bool)\";\n",
       "                var nbb_cells = Jupyter.notebook.get_cells();\n",
       "                for (var i = 0; i < nbb_cells.length; ++i) {\n",
       "                    if (nbb_cells[i].input_prompt_number == nbb_cell_id) {\n",
       "                        if (nbb_cells[i].get_text() == nbb_unformatted_code) {\n",
       "                             nbb_cells[i].set_text(nbb_formatted_code);\n",
       "                        }\n",
       "                        break;\n",
       "                    }\n",
       "                }\n",
       "            }, 500);\n",
       "            "
      ],
      "text/plain": [
       "<IPython.core.display.Javascript object>"
      ]
     },
     "metadata": {},
     "output_type": "display_data"
    }
   ],
   "source": [
    "# For now, True is white, False is black. We will reverse this later.\n",
    "grid = np.meshgrid(*[[0, 1] for _ in range(GRID_LENGTH)])\n",
    "grid = [mesh.flatten() for mesh in grid]\n",
    "grid = np.transpose(np.vstack(grid))\n",
    "grid = grid.astype(bool)"
   ]
  },
  {
   "cell_type": "code",
   "execution_count": 4,
   "metadata": {},
   "outputs": [
    {
     "data": {
      "application/javascript": [
       "\n",
       "            setTimeout(function() {\n",
       "                var nbb_cell_id = 4;\n",
       "                var nbb_unformatted_code = \"def contains_run_length(row, length):\\n    \\\"\\\"\\\"\\n    If True, `row` contains a run of True values of length equal to `length`\\n    E.g.\\n        row_contains_run_length([0, 1, 1], 1) returns False\\n        row_contains_run_length([0, 1, 1], 2) returns True\\n    \\\"\\\"\\\"\\n    # This is why we have white and black flipped - to sum lengths of _whites_\\n    return any([sum(group) == length for _, group in itertools.groupby(row)])\";\n",
       "                var nbb_formatted_code = \"def contains_run_length(row, length):\\n    \\\"\\\"\\\"\\n    If True, `row` contains a run of True values of length equal to `length`\\n    E.g.\\n        row_contains_run_length([0, 1, 1], 1) returns False\\n        row_contains_run_length([0, 1, 1], 2) returns True\\n    \\\"\\\"\\\"\\n    # This is why we have white and black flipped - to sum lengths of _whites_\\n    return any([sum(group) == length for _, group in itertools.groupby(row)])\";\n",
       "                var nbb_cells = Jupyter.notebook.get_cells();\n",
       "                for (var i = 0; i < nbb_cells.length; ++i) {\n",
       "                    if (nbb_cells[i].input_prompt_number == nbb_cell_id) {\n",
       "                        if (nbb_cells[i].get_text() == nbb_unformatted_code) {\n",
       "                             nbb_cells[i].set_text(nbb_formatted_code);\n",
       "                        }\n",
       "                        break;\n",
       "                    }\n",
       "                }\n",
       "            }, 500);\n",
       "            "
      ],
      "text/plain": [
       "<IPython.core.display.Javascript object>"
      ]
     },
     "metadata": {},
     "output_type": "display_data"
    }
   ],
   "source": [
    "def contains_run_length(row, length):\n",
    "    \"\"\"\n",
    "    If True, `row` contains a run of True values of length equal to `length`\n",
    "    E.g.\n",
    "        row_contains_run_length([0, 1, 1], 1) returns False\n",
    "        row_contains_run_length([0, 1, 1], 2) returns True\n",
    "    \"\"\"\n",
    "    # This is why we have white and black flipped - to sum lengths of _whites_\n",
    "    return any([sum(group) == length for _, group in itertools.groupby(row)])"
   ]
  },
  {
   "cell_type": "code",
   "execution_count": 5,
   "metadata": {},
   "outputs": [
    {
     "data": {
      "application/javascript": [
       "\n",
       "            setTimeout(function() {\n",
       "                var nbb_cell_id = 5;\n",
       "                var nbb_unformatted_code = \"# Compute all valid rows\\n\\nfor length in range(2, MIN_WORD_LENGTH):\\n    rows_to_delete = []\\n    for i, row in enumerate(grid):\\n        if contains_run_length(row, length):\\n            rows_to_delete.append(i)\\n    grid = np.delete(grid, rows_to_delete, axis=0)\\n\\nvalid_rows = np.copy(grid)\\nvalid_rows = ~valid_rows  # True is black, False is white\\nvalid_rows = valid_rows[\\n    np.sum(valid_rows, axis=1) < GRID_LENGTH\\n]  # Remove all-black row\\nflipped_valid_rows = np.flip(valid_rows, axis=1)  # Precompute flipped rows for later\";\n",
       "                var nbb_formatted_code = \"# Compute all valid rows\\n\\nfor length in range(2, MIN_WORD_LENGTH):\\n    rows_to_delete = []\\n    for i, row in enumerate(grid):\\n        if contains_run_length(row, length):\\n            rows_to_delete.append(i)\\n    grid = np.delete(grid, rows_to_delete, axis=0)\\n\\nvalid_rows = np.copy(grid)\\nvalid_rows = ~valid_rows  # True is black, False is white\\nvalid_rows = valid_rows[\\n    np.sum(valid_rows, axis=1) < GRID_LENGTH\\n]  # Remove all-black row\\nflipped_valid_rows = np.flip(valid_rows, axis=1)  # Precompute flipped rows for later\";\n",
       "                var nbb_cells = Jupyter.notebook.get_cells();\n",
       "                for (var i = 0; i < nbb_cells.length; ++i) {\n",
       "                    if (nbb_cells[i].input_prompt_number == nbb_cell_id) {\n",
       "                        if (nbb_cells[i].get_text() == nbb_unformatted_code) {\n",
       "                             nbb_cells[i].set_text(nbb_formatted_code);\n",
       "                        }\n",
       "                        break;\n",
       "                    }\n",
       "                }\n",
       "            }, 500);\n",
       "            "
      ],
      "text/plain": [
       "<IPython.core.display.Javascript object>"
      ]
     },
     "metadata": {},
     "output_type": "display_data"
    }
   ],
   "source": [
    "# Compute all valid rows\n",
    "\n",
    "for length in range(2, MIN_WORD_LENGTH):\n",
    "    rows_to_delete = []\n",
    "    for i, row in enumerate(grid):\n",
    "        if contains_run_length(row, length):\n",
    "            rows_to_delete.append(i)\n",
    "    grid = np.delete(grid, rows_to_delete, axis=0)\n",
    "\n",
    "valid_rows = np.copy(grid)\n",
    "valid_rows = ~valid_rows  # True is black, False is white\n",
    "valid_rows = valid_rows[\n",
    "    np.sum(valid_rows, axis=1) < GRID_LENGTH\n",
    "]  # Remove all-black row\n",
    "flipped_valid_rows = np.flip(valid_rows, axis=1)  # Precompute flipped rows for later"
   ]
  },
  {
   "cell_type": "code",
   "execution_count": 6,
   "metadata": {},
   "outputs": [
    {
     "data": {
      "application/javascript": [
       "\n",
       "            setTimeout(function() {\n",
       "                var nbb_cell_id = 6;\n",
       "                var nbb_unformatted_code = \"# Compute all symmetric rows\\n\\nsymmetric_row_indexes = []\\nfor i, row in enumerate(grid):\\n    if all(row == np.flip(row)):\\n        symmetric_row_indexes.append(i)\\n\\nsymmetric_rows = np.copy(grid[symmetric_row_indexes])\\nsymmetric_rows = ~symmetric_rows  # True is black, False is white\\nsymmetric_rows = symmetric_rows[\\n    np.sum(symmetric_rows, axis=1) < 13\\n]  # Remove all-black row\";\n",
       "                var nbb_formatted_code = \"# Compute all symmetric rows\\n\\nsymmetric_row_indexes = []\\nfor i, row in enumerate(grid):\\n    if all(row == np.flip(row)):\\n        symmetric_row_indexes.append(i)\\n\\nsymmetric_rows = np.copy(grid[symmetric_row_indexes])\\nsymmetric_rows = ~symmetric_rows  # True is black, False is white\\nsymmetric_rows = symmetric_rows[\\n    np.sum(symmetric_rows, axis=1) < 13\\n]  # Remove all-black row\";\n",
       "                var nbb_cells = Jupyter.notebook.get_cells();\n",
       "                for (var i = 0; i < nbb_cells.length; ++i) {\n",
       "                    if (nbb_cells[i].input_prompt_number == nbb_cell_id) {\n",
       "                        if (nbb_cells[i].get_text() == nbb_unformatted_code) {\n",
       "                             nbb_cells[i].set_text(nbb_formatted_code);\n",
       "                        }\n",
       "                        break;\n",
       "                    }\n",
       "                }\n",
       "            }, 500);\n",
       "            "
      ],
      "text/plain": [
       "<IPython.core.display.Javascript object>"
      ]
     },
     "metadata": {},
     "output_type": "display_data"
    }
   ],
   "source": [
    "# Compute all symmetric rows\n",
    "\n",
    "symmetric_row_indexes = []\n",
    "for i, row in enumerate(grid):\n",
    "    if all(row == np.flip(row)):\n",
    "        symmetric_row_indexes.append(i)\n",
    "\n",
    "symmetric_rows = np.copy(grid[symmetric_row_indexes])\n",
    "symmetric_rows = ~symmetric_rows  # True is black, False is white\n",
    "symmetric_rows = symmetric_rows[\n",
    "    np.sum(symmetric_rows, axis=1) < 13\n",
    "]  # Remove all-black row"
   ]
  },
  {
   "cell_type": "code",
   "execution_count": 7,
   "metadata": {},
   "outputs": [
    {
     "data": {
      "application/javascript": [
       "\n",
       "            setTimeout(function() {\n",
       "                var nbb_cell_id = 7;\n",
       "                var nbb_unformatted_code = \"def row_is_valid(grid, row_num):\\n    (word_starts_indexes,) = np.where(\\n        np.append(\\n            [np.logical_not(grid[row_num][0])], np.diff(grid[row_num].astype(int)) == -1\\n        )\\n    )\\n    (word_ends_indexes,) = np.where(\\n        np.append(\\n            np.diff(grid[row_num].astype(int)) == 1, [np.logical_not(grid[row_num][-1])]\\n        )\\n    )\\n\\n    for word_start_index, word_end_index in zip(word_starts_indexes, word_ends_indexes):\\n        subgrid = grid[:, word_start_index : word_end_index + 1]\\n        if 0 < row_num < grid.shape[0] - 1:\\n            unchecked_squares = np.logical_and(*subgrid[[row_num - 1, row_num + 1]])\\n        elif row_num == 0:\\n            unchecked_squares = subgrid[1]\\n        elif row_num == grid.shape[0] - 1:\\n            unchecked_squares = subgrid[grid.shape[0] - 2]\\n\\n        expected_num_unchecked = (word_end_index - word_start_index) / 2\\n\\n        has_expected_num_unchecked = (\\n            sum(unchecked_squares) == np.ceil(expected_num_unchecked)\\n            if ROUND_UP_UNCHECKED\\n            else (\\n                np.floor(expected_num_unchecked)\\n                <= sum(unchecked_squares)\\n                <= np.ceil(expected_num_unchecked)\\n            )\\n        )\\n        has_max_two_consecutive_unchecked = all(\\n            [\\n                sum(group) <= 2\\n                for bit, group in itertools.groupby(unchecked_squares)\\n                if bit\\n            ]\\n        )\\n        ends_not_two_consecutive_unchecked = not (\\n            all(unchecked_squares[:2]) or all(unchecked_squares[-2:])\\n        )\\n\\n        if not (\\n            has_expected_num_unchecked\\n            and has_max_two_consecutive_unchecked\\n            and ends_not_two_consecutive_unchecked\\n        ):\\n            return False\\n\\n    return True\";\n",
       "                var nbb_formatted_code = \"def row_is_valid(grid, row_num):\\n    (word_starts_indexes,) = np.where(\\n        np.append(\\n            [np.logical_not(grid[row_num][0])], np.diff(grid[row_num].astype(int)) == -1\\n        )\\n    )\\n    (word_ends_indexes,) = np.where(\\n        np.append(\\n            np.diff(grid[row_num].astype(int)) == 1, [np.logical_not(grid[row_num][-1])]\\n        )\\n    )\\n\\n    for word_start_index, word_end_index in zip(word_starts_indexes, word_ends_indexes):\\n        subgrid = grid[:, word_start_index : word_end_index + 1]\\n        if 0 < row_num < grid.shape[0] - 1:\\n            unchecked_squares = np.logical_and(*subgrid[[row_num - 1, row_num + 1]])\\n        elif row_num == 0:\\n            unchecked_squares = subgrid[1]\\n        elif row_num == grid.shape[0] - 1:\\n            unchecked_squares = subgrid[grid.shape[0] - 2]\\n\\n        expected_num_unchecked = (word_end_index - word_start_index) / 2\\n\\n        has_expected_num_unchecked = (\\n            sum(unchecked_squares) == np.ceil(expected_num_unchecked)\\n            if ROUND_UP_UNCHECKED\\n            else (\\n                np.floor(expected_num_unchecked)\\n                <= sum(unchecked_squares)\\n                <= np.ceil(expected_num_unchecked)\\n            )\\n        )\\n        has_max_two_consecutive_unchecked = all(\\n            [\\n                sum(group) <= 2\\n                for bit, group in itertools.groupby(unchecked_squares)\\n                if bit\\n            ]\\n        )\\n        ends_not_two_consecutive_unchecked = not (\\n            all(unchecked_squares[:2]) or all(unchecked_squares[-2:])\\n        )\\n\\n        if not (\\n            has_expected_num_unchecked\\n            and has_max_two_consecutive_unchecked\\n            and ends_not_two_consecutive_unchecked\\n        ):\\n            return False\\n\\n    return True\";\n",
       "                var nbb_cells = Jupyter.notebook.get_cells();\n",
       "                for (var i = 0; i < nbb_cells.length; ++i) {\n",
       "                    if (nbb_cells[i].input_prompt_number == nbb_cell_id) {\n",
       "                        if (nbb_cells[i].get_text() == nbb_unformatted_code) {\n",
       "                             nbb_cells[i].set_text(nbb_formatted_code);\n",
       "                        }\n",
       "                        break;\n",
       "                    }\n",
       "                }\n",
       "            }, 500);\n",
       "            "
      ],
      "text/plain": [
       "<IPython.core.display.Javascript object>"
      ]
     },
     "metadata": {},
     "output_type": "display_data"
    }
   ],
   "source": [
    "def row_is_valid(grid, row_num):\n",
    "    (word_starts_indexes,) = np.where(\n",
    "        np.append(\n",
    "            [np.logical_not(grid[row_num][0])], np.diff(grid[row_num].astype(int)) == -1\n",
    "        )\n",
    "    )\n",
    "    (word_ends_indexes,) = np.where(\n",
    "        np.append(\n",
    "            np.diff(grid[row_num].astype(int)) == 1, [np.logical_not(grid[row_num][-1])]\n",
    "        )\n",
    "    )\n",
    "\n",
    "    for word_start_index, word_end_index in zip(word_starts_indexes, word_ends_indexes):\n",
    "        subgrid = grid[:, word_start_index : word_end_index + 1]\n",
    "        if 0 < row_num < grid.shape[0] - 1:\n",
    "            unchecked_squares = np.logical_and(*subgrid[[row_num - 1, row_num + 1]])\n",
    "        elif row_num == 0:\n",
    "            unchecked_squares = subgrid[1]\n",
    "        elif row_num == grid.shape[0] - 1:\n",
    "            unchecked_squares = subgrid[grid.shape[0] - 2]\n",
    "\n",
    "        expected_num_unchecked = (word_end_index - word_start_index) / 2\n",
    "        has_expected_num_unchecked = (\n",
    "            sum(unchecked_squares) == np.ceil(expected_num_unchecked)\n",
    "            if ROUND_UP_UNCHECKED\n",
    "            else (\n",
    "                np.floor(expected_num_unchecked)\n",
    "                <= sum(unchecked_squares)\n",
    "                <= np.ceil(expected_num_unchecked)\n",
    "            )\n",
    "        )\n",
    "        has_max_two_consecutive_unchecked = all(\n",
    "            [\n",
    "                sum(group) <= 2\n",
    "                for bit, group in itertools.groupby(unchecked_squares)\n",
    "                if bit\n",
    "            ]\n",
    "        )\n",
    "        ends_not_two_consecutive_unchecked = not (\n",
    "            all(unchecked_squares[:2]) or all(unchecked_squares[-2:])\n",
    "        )\n",
    "\n",
    "        if not (\n",
    "            has_expected_num_unchecked\n",
    "            and has_max_two_consecutive_unchecked\n",
    "            and ends_not_two_consecutive_unchecked\n",
    "        ):\n",
    "            return False\n",
    "\n",
    "    return True"
   ]
  },
  {
   "cell_type": "code",
   "execution_count": 8,
   "metadata": {},
   "outputs": [
    {
     "data": {
      "application/vnd.jupyter.widget-view+json": {
       "model_id": "2bb6938890c64e0fa5e3c372525665cf",
       "version_major": 2,
       "version_minor": 0
      },
      "text/plain": [
       "  0%|          | 0/253 [00:00<?, ?it/s]"
      ]
     },
     "metadata": {},
     "output_type": "display_data"
    },
    {
     "data": {
      "application/javascript": [
       "\n",
       "            setTimeout(function() {\n",
       "                var nbb_cell_id = 8;\n",
       "                var nbb_unformatted_code = \"valid_middle_rows_indexes = []\\n\\nfor i, row1 in tqdm(enumerate(valid_rows), total=valid_rows.shape[0]):\\n    for j, row2 in enumerate(symmetric_rows):\\n        grid = np.vstack(\\n            [\\n                row1,\\n                row2,\\n                np.flip(row1),\\n            ]\\n        )\\n        if all(\\n            [\\n                row_is_valid(\\n                    grid,\\n                    k,\\n                )\\n                for k in range(2)  # By symmetry, only need to check 0 and 1\\n            ]\\n        ):\\n            valid_middle_rows_indexes.append((i, j))\";\n",
       "                var nbb_formatted_code = \"valid_middle_rows_indexes = []\\n\\nfor i, row1 in tqdm(enumerate(valid_rows), total=valid_rows.shape[0]):\\n    for j, row2 in enumerate(symmetric_rows):\\n        grid = np.vstack(\\n            [\\n                row1,\\n                row2,\\n                np.flip(row1),\\n            ]\\n        )\\n        if all(\\n            [\\n                row_is_valid(\\n                    grid,\\n                    k,\\n                )\\n                for k in range(2)  # By symmetry, only need to check 0 and 1\\n            ]\\n        ):\\n            valid_middle_rows_indexes.append((i, j))\";\n",
       "                var nbb_cells = Jupyter.notebook.get_cells();\n",
       "                for (var i = 0; i < nbb_cells.length; ++i) {\n",
       "                    if (nbb_cells[i].input_prompt_number == nbb_cell_id) {\n",
       "                        if (nbb_cells[i].get_text() == nbb_unformatted_code) {\n",
       "                             nbb_cells[i].set_text(nbb_formatted_code);\n",
       "                        }\n",
       "                        break;\n",
       "                    }\n",
       "                }\n",
       "            }, 500);\n",
       "            "
      ],
      "text/plain": [
       "<IPython.core.display.Javascript object>"
      ]
     },
     "metadata": {},
     "output_type": "display_data"
    }
   ],
   "source": [
    "valid_middle_rows_indexes = []\n",
    "\n",
    "for i, row1 in tqdm(enumerate(valid_rows), total=valid_rows.shape[0]):\n",
    "    for j, row2 in enumerate(symmetric_rows):\n",
    "        grid = np.vstack(\n",
    "            [\n",
    "                row1,\n",
    "                row2,\n",
    "                np.flip(row1),\n",
    "            ]\n",
    "        )\n",
    "        if all(\n",
    "            [\n",
    "                row_is_valid(\n",
    "                    grid,\n",
    "                    k,\n",
    "                )\n",
    "                for k in range(2)  # By symmetry, only need to check 0 and 1\n",
    "            ]\n",
    "        ):\n",
    "            valid_middle_rows_indexes.append((i, j))"
   ]
  },
  {
   "cell_type": "code",
   "execution_count": 9,
   "metadata": {},
   "outputs": [
    {
     "data": {
      "application/javascript": [
       "\n",
       "            setTimeout(function() {\n",
       "                var nbb_cell_id = 9;\n",
       "                var nbb_unformatted_code = \"def grid_from_indexes(*indexes):\\n    return np.vstack(\\n        [valid_rows[i] for i in indexes[:-1]]\\n        + [symmetric_rows[indexes[-1]]]\\n        # Make sure to reverse the flipped rows!\\n        + [flipped_valid_rows[i] for i in indexes[:-1]][::-1]\\n    )\\n\\n\\ndef translate(row):\\n    return \\\"\\\".join([\\\"\\u2b1b\\\" if x else \\\"\\u2b1c\\\" for x in row])\\n\\n\\ndef visualize(grid):\\n    return \\\"\\\\n\\\".join([translate(row) for row in grid])\\n\\n\\ndef is_connected(grid):\\n    x, y = np.where(~grid)\\n    to_visit = [(x[0], y[0])]\\n    visited = set()\\n\\n    while to_visit:\\n        x, y = to_visit.pop()\\n        for i, j in [(x - 1, y), (x + 1, y), (x, y - 1), (x, y + 1)]:\\n            if (\\n                0 <= i < GRID_LENGTH\\n                and 0 <= j < GRID_LENGTH\\n                and (i, j) not in visited\\n                and not grid[i, j]\\n            ):\\n                to_visit.append((i, j))\\n                visited.add((i, j))\\n\\n    return len(visited) == np.sum(~grid)\";\n",
       "                var nbb_formatted_code = \"def grid_from_indexes(*indexes):\\n    return np.vstack(\\n        [valid_rows[i] for i in indexes[:-1]]\\n        + [symmetric_rows[indexes[-1]]]\\n        # Make sure to reverse the flipped rows!\\n        + [flipped_valid_rows[i] for i in indexes[:-1]][::-1]\\n    )\\n\\n\\ndef translate(row):\\n    return \\\"\\\".join([\\\"\\u2b1b\\\" if x else \\\"\\u2b1c\\\" for x in row])\\n\\n\\ndef visualize(grid):\\n    return \\\"\\\\n\\\".join([translate(row) for row in grid])\\n\\n\\ndef is_connected(grid):\\n    x, y = np.where(~grid)\\n    to_visit = [(x[0], y[0])]\\n    visited = set()\\n\\n    while to_visit:\\n        x, y = to_visit.pop()\\n        for i, j in [(x - 1, y), (x + 1, y), (x, y - 1), (x, y + 1)]:\\n            if (\\n                0 <= i < GRID_LENGTH\\n                and 0 <= j < GRID_LENGTH\\n                and (i, j) not in visited\\n                and not grid[i, j]\\n            ):\\n                to_visit.append((i, j))\\n                visited.add((i, j))\\n\\n    return len(visited) == np.sum(~grid)\";\n",
       "                var nbb_cells = Jupyter.notebook.get_cells();\n",
       "                for (var i = 0; i < nbb_cells.length; ++i) {\n",
       "                    if (nbb_cells[i].input_prompt_number == nbb_cell_id) {\n",
       "                        if (nbb_cells[i].get_text() == nbb_unformatted_code) {\n",
       "                             nbb_cells[i].set_text(nbb_formatted_code);\n",
       "                        }\n",
       "                        break;\n",
       "                    }\n",
       "                }\n",
       "            }, 500);\n",
       "            "
      ],
      "text/plain": [
       "<IPython.core.display.Javascript object>"
      ]
     },
     "metadata": {},
     "output_type": "display_data"
    }
   ],
   "source": [
    "def grid_from_indexes(*indexes):\n",
    "    return np.vstack(\n",
    "        [valid_rows[i] for i in indexes[:-1]]\n",
    "        + [symmetric_rows[indexes[-1]]]\n",
    "        # Make sure to reverse the flipped rows!\n",
    "        + [flipped_valid_rows[i] for i in indexes[:-1]][::-1]\n",
    "    )\n",
    "\n",
    "\n",
    "def translate(row):\n",
    "    return \"\".join([\"⬛\" if x else \"⬜\" for x in row])\n",
    "\n",
    "\n",
    "def visualize(grid):\n",
    "    return \"\\n\".join([translate(row) for row in grid])\n",
    "\n",
    "\n",
    "def is_connected(grid):\n",
    "    x, y = np.where(~grid)\n",
    "    to_visit = [(x[0], y[0])]\n",
    "    visited = set()\n",
    "\n",
    "    while to_visit:\n",
    "        x, y = to_visit.pop()\n",
    "        for i, j in [(x - 1, y), (x + 1, y), (x, y - 1), (x, y + 1)]:\n",
    "            if (\n",
    "                0 <= i < GRID_LENGTH\n",
    "                and 0 <= j < GRID_LENGTH\n",
    "                and (i, j) not in visited\n",
    "                and not grid[i, j]\n",
    "            ):\n",
    "                to_visit.append((i, j))\n",
    "                visited.add((i, j))\n",
    "\n",
    "    return len(visited) == np.sum(~grid)"
   ]
  },
  {
   "cell_type": "code",
   "execution_count": 10,
   "metadata": {},
   "outputs": [
    {
     "data": {
      "application/javascript": [
       "\n",
       "            setTimeout(function() {\n",
       "                var nbb_cell_id = 10;\n",
       "                var nbb_unformatted_code = \"valid_grids_indexes = []\\nset_valid_rows = set([translate(row) for row in valid_rows])\\n\\nwhile valid_middle_rows_indexes:\\n    indexes = valid_middle_rows_indexes.pop()\\n\\n    (must_be_whites_indexes,) = np.where(\\n        (grid_from_indexes(*indexes)[:3].T == np.array([True, False, False])).all(\\n            axis=1\\n        )\\n    )\\n    (valid_rows_to_search_indexes,) = np.where(\\n        valid_rows[:, must_be_whites_indexes].all(axis=1)\\n    )\\n\\n    for i in valid_rows_to_search_indexes:\\n        grid = grid_from_indexes(i, *indexes)\\n        if row_is_valid(grid, 0):\\n            if len([i, *indexes]) == GRID_LENGTH // 2 + 1:\\n                rot90_grid = np.rot90(grid)\\n                grid_is_connected = is_connected(grid)\\n                columns_are_valid_rows = all(\\n                    [\\n                        translate(row) in set_valid_rows\\n                        for row in rot90_grid[: GRID_LENGTH // 2 + 1]\\n                    ]\\n                )\\n                columns_are_valid = all(\\n                    [row_is_valid(rot90_grid, i) for i in range(GRID_LENGTH // 2 + 1)]\\n                )\\n                if grid_is_connected and columns_are_valid_rows and columns_are_valid:\\n                    valid_grids_indexes.append([i, *indexes])\\n            else:\\n                valid_middle_rows_indexes.append([i, *indexes])\";\n",
       "                var nbb_formatted_code = \"valid_grids_indexes = []\\nset_valid_rows = set([translate(row) for row in valid_rows])\\n\\nwhile valid_middle_rows_indexes:\\n    indexes = valid_middle_rows_indexes.pop()\\n\\n    (must_be_whites_indexes,) = np.where(\\n        (grid_from_indexes(*indexes)[:3].T == np.array([True, False, False])).all(\\n            axis=1\\n        )\\n    )\\n    (valid_rows_to_search_indexes,) = np.where(\\n        valid_rows[:, must_be_whites_indexes].all(axis=1)\\n    )\\n\\n    for i in valid_rows_to_search_indexes:\\n        grid = grid_from_indexes(i, *indexes)\\n        if row_is_valid(grid, 0):\\n            if len([i, *indexes]) == GRID_LENGTH // 2 + 1:\\n                rot90_grid = np.rot90(grid)\\n                grid_is_connected = is_connected(grid)\\n                columns_are_valid_rows = all(\\n                    [\\n                        translate(row) in set_valid_rows\\n                        for row in rot90_grid[: GRID_LENGTH // 2 + 1]\\n                    ]\\n                )\\n                columns_are_valid = all(\\n                    [row_is_valid(rot90_grid, i) for i in range(GRID_LENGTH // 2 + 1)]\\n                )\\n                if grid_is_connected and columns_are_valid_rows and columns_are_valid:\\n                    valid_grids_indexes.append([i, *indexes])\\n            else:\\n                valid_middle_rows_indexes.append([i, *indexes])\";\n",
       "                var nbb_cells = Jupyter.notebook.get_cells();\n",
       "                for (var i = 0; i < nbb_cells.length; ++i) {\n",
       "                    if (nbb_cells[i].input_prompt_number == nbb_cell_id) {\n",
       "                        if (nbb_cells[i].get_text() == nbb_unformatted_code) {\n",
       "                             nbb_cells[i].set_text(nbb_formatted_code);\n",
       "                        }\n",
       "                        break;\n",
       "                    }\n",
       "                }\n",
       "            }, 500);\n",
       "            "
      ],
      "text/plain": [
       "<IPython.core.display.Javascript object>"
      ]
     },
     "metadata": {},
     "output_type": "display_data"
    }
   ],
   "source": [
    "valid_grids_indexes = []\n",
    "set_valid_rows = set([translate(row) for row in valid_rows])\n",
    "\n",
    "while valid_middle_rows_indexes:\n",
    "    indexes = valid_middle_rows_indexes.pop()\n",
    "\n",
    "    (must_be_whites_indexes,) = np.where(\n",
    "        (grid_from_indexes(*indexes)[:3].T == np.array([True, False, False])).all(\n",
    "            axis=1\n",
    "        )\n",
    "    )\n",
    "    (valid_rows_to_search_indexes,) = np.where(\n",
    "        valid_rows[:, must_be_whites_indexes].all(axis=1)\n",
    "    )\n",
    "\n",
    "    for i in valid_rows_to_search_indexes:\n",
    "        grid = grid_from_indexes(i, *indexes)\n",
    "        if row_is_valid(grid, 0):\n",
    "            if len([i, *indexes]) == GRID_LENGTH // 2 + 1:\n",
    "                rot90_grid = np.rot90(grid)\n",
    "                grid_is_connected = is_connected(grid)\n",
    "                columns_are_valid_rows = all(\n",
    "                    [\n",
    "                        translate(row) in set_valid_rows\n",
    "                        for row in rot90_grid[: GRID_LENGTH // 2 + 1]\n",
    "                    ]\n",
    "                )\n",
    "                columns_are_valid = all(\n",
    "                    [row_is_valid(rot90_grid, i) for i in range(GRID_LENGTH // 2 + 1)]\n",
    "                )\n",
    "                if grid_is_connected and columns_are_valid_rows and columns_are_valid:\n",
    "                    valid_grids_indexes.append([i, *indexes])\n",
    "            else:\n",
    "                valid_middle_rows_indexes.append([i, *indexes])"
   ]
  },
  {
   "cell_type": "code",
   "execution_count": 11,
   "metadata": {
    "scrolled": true
   },
   "outputs": [
    {
     "data": {
      "application/javascript": [
       "\n",
       "            setTimeout(function() {\n",
       "                var nbb_cell_id = 11;\n",
       "                var nbb_unformatted_code = \"with open(f\\\"valid_{GRID_LENGTH}x{GRID_LENGTH}_grids.txt\\\", \\\"w\\\") as f:\\n    msg = (\\n        f\\\"There are {len(valid_grids_indexes)} valid {GRID_LENGTH}x{GRID_LENGTH} grids\\\\n\\\"\\n        f\\\"- Assuming minimum word length of {MIN_WORD_LENGTH}.\\\\n\\\"\\n        f\\\"- And that words must be half-checked, rounded {'up' if ROUND_UP_UNCHECKED else 'down'}.\\\\n\\\"\\n    )\\n\\n    print(msg, file=f)\\n    for valid_grid_index in valid_grids_indexes:\\n        s = visualize(grid_from_indexes(*valid_grid_index))\\n        print(s + \\\"\\\\n\\\", file=f)\";\n",
       "                var nbb_formatted_code = \"with open(f\\\"valid_{GRID_LENGTH}x{GRID_LENGTH}_grids.txt\\\", \\\"w\\\") as f:\\n    msg = (\\n        f\\\"There are {len(valid_grids_indexes)} valid {GRID_LENGTH}x{GRID_LENGTH} grids\\\\n\\\"\\n        f\\\"- Assuming minimum word length of {MIN_WORD_LENGTH}.\\\\n\\\"\\n        f\\\"- And that words must be half-checked, rounded {'up' if ROUND_UP_UNCHECKED else 'down'}.\\\\n\\\"\\n    )\\n\\n    print(msg, file=f)\\n    for valid_grid_index in valid_grids_indexes:\\n        s = visualize(grid_from_indexes(*valid_grid_index))\\n        print(s + \\\"\\\\n\\\", file=f)\";\n",
       "                var nbb_cells = Jupyter.notebook.get_cells();\n",
       "                for (var i = 0; i < nbb_cells.length; ++i) {\n",
       "                    if (nbb_cells[i].input_prompt_number == nbb_cell_id) {\n",
       "                        if (nbb_cells[i].get_text() == nbb_unformatted_code) {\n",
       "                             nbb_cells[i].set_text(nbb_formatted_code);\n",
       "                        }\n",
       "                        break;\n",
       "                    }\n",
       "                }\n",
       "            }, 500);\n",
       "            "
      ],
      "text/plain": [
       "<IPython.core.display.Javascript object>"
      ]
     },
     "metadata": {},
     "output_type": "display_data"
    }
   ],
   "source": [
    "with open(f\"valid_{GRID_LENGTH}x{GRID_LENGTH}_grids.txt\", \"w\") as f:\n",
    "    msg = (\n",
    "        f\"There are {len(valid_grids_indexes)} valid {GRID_LENGTH}x{GRID_LENGTH} grids\\n\"\n",
    "        f\"- Assuming minimum word length of {MIN_WORD_LENGTH}.\\n\"\n",
    "        f\"- And that words must be half-checked, rounded up{'' if ROUND_UP_UNCHECKED else ' or down'}.\\n\"\n",
    "    )\n",
    "\n",
    "    print(msg, file=f)\n",
    "    for valid_grid_index in valid_grids_indexes:\n",
    "        s = visualize(grid_from_indexes(*valid_grid_index))\n",
    "        print(s + \"\\n\", file=f)"
   ]
  },
  {
   "cell_type": "code",
   "execution_count": null,
   "metadata": {},
   "outputs": [],
   "source": []
  }
 ],
 "metadata": {
  "kernelspec": {
   "display_name": "Python 3",
   "language": "python",
   "name": "python3"
  },
  "language_info": {
   "codemirror_mode": {
    "name": "ipython",
    "version": 3
   },
   "file_extension": ".py",
   "mimetype": "text/x-python",
   "name": "python",
   "nbconvert_exporter": "python",
   "pygments_lexer": "ipython3",
   "version": "3.7.6"
  }
 },
 "nbformat": 4,
 "nbformat_minor": 4
}
